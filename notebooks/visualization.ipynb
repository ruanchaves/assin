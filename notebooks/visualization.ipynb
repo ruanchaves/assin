{
 "cells": [
  {
   "cell_type": "code",
   "execution_count": 3,
   "metadata": {},
   "outputs": [],
   "source": [
    "%matplotlib inline\n",
    "import seaborn as sns\n",
    "import numpy as np\n",
    "import pandas as pd\n",
    "import xml.etree.ElementTree as ET"
   ]
  },
  {
   "cell_type": "code",
   "execution_count": 79,
   "metadata": {},
   "outputs": [],
   "source": [
    "def extract_scores(f, task=None):\n",
    "    entailment_dict = {\n",
    "        'None' : 0,\n",
    "        'Entailment': 1,\n",
    "        'Paraphrase': 2\n",
    "    }\n",
    "    f_tree = ET.parse(f)\n",
    "    f_root = f_tree.getroot()\n",
    "    f_list = []\n",
    "    for pair in f_root.iter('pair'):\n",
    "        try:\n",
    "            found_score = float(pair.get(task))\n",
    "        except:\n",
    "            found_score = float(entailment_dict[pair.get(task)])\n",
    "        f_list.append(found_score)\n",
    "    return f_list\n",
    "\n",
    "def generate_scores_df(f1=None, f2=None, f1_label='f1_label', f2_label='f2_label', task=None):\n",
    "    f1_list = np.array(extract_scores(f1, task))\n",
    "    f2_list = np.array(extract_scores(f2, task))\n",
    "    f2_list = f1_list - f2_list\n",
    "    f2_list = np.array([ x**2 for x in f2_list ])\n",
    "    f1_list = np.round(f1_list)\n",
    "    df = pd.DataFrame({f1_label: f1_list, f2_label: f2_list})\n",
    "    df = df.groupby(f1_label).mean().reset_index().sort_values(f1_label)\n",
    "    df = df[[f2_label]]\n",
    "#     df = df.sort_values(by=[f1_label, f2_label], ascending=[True, False])\n",
    "#     df = df.reset_index()\n",
    "#     df['idx'] = df.index\n",
    "#     df = pd.melt(df, id_vars=['idx'], value_vars=[f1_label, f2_label])\n",
    "    return df\n",
    "    \n",
    "def get_dataplot(dataplot, value_rename, idx_rename, variable_rename, num_samples=500):\n",
    "#     dataplot = dataplot.sample(num_samples)\n",
    "    dataplot = dataplot.rename(columns={\n",
    "        \"value\" : value_rename,\n",
    "        \"idx\": idx_rename,\n",
    "        \"variable\": variable_rename\n",
    "    })\n",
    "    return dataplot"
   ]
  },
  {
   "cell_type": "code",
   "execution_count": 80,
   "metadata": {},
   "outputs": [
    {
     "data": {
      "text/html": [
       "<div>\n",
       "<style scoped>\n",
       "    .dataframe tbody tr th:only-of-type {\n",
       "        vertical-align: middle;\n",
       "    }\n",
       "\n",
       "    .dataframe tbody tr th {\n",
       "        vertical-align: top;\n",
       "    }\n",
       "\n",
       "    .dataframe thead th {\n",
       "        text-align: right;\n",
       "    }\n",
       "</style>\n",
       "<table border=\"1\" class=\"dataframe\">\n",
       "  <thead>\n",
       "    <tr style=\"text-align: right;\">\n",
       "      <th></th>\n",
       "      <th>Average absolute error</th>\n",
       "      <th>dataset</th>\n",
       "      <th>score</th>\n",
       "      <th>model</th>\n",
       "    </tr>\n",
       "  </thead>\n",
       "  <tbody>\n",
       "    <tr>\n",
       "      <th>0</th>\n",
       "      <td>1.413047</td>\n",
       "      <td>ASSIN 2</td>\n",
       "      <td>1</td>\n",
       "      <td>RoBERTa</td>\n",
       "    </tr>\n",
       "    <tr>\n",
       "      <th>1</th>\n",
       "      <td>2.391685</td>\n",
       "      <td>ASSIN 2</td>\n",
       "      <td>2</td>\n",
       "      <td>RoBERTa</td>\n",
       "    </tr>\n",
       "    <tr>\n",
       "      <th>2</th>\n",
       "      <td>1.058928</td>\n",
       "      <td>ASSIN 2</td>\n",
       "      <td>3</td>\n",
       "      <td>RoBERTa</td>\n",
       "    </tr>\n",
       "    <tr>\n",
       "      <th>3</th>\n",
       "      <td>0.426405</td>\n",
       "      <td>ASSIN 2</td>\n",
       "      <td>4</td>\n",
       "      <td>RoBERTa</td>\n",
       "    </tr>\n",
       "    <tr>\n",
       "      <th>4</th>\n",
       "      <td>0.089732</td>\n",
       "      <td>ASSIN 2</td>\n",
       "      <td>5</td>\n",
       "      <td>RoBERTa</td>\n",
       "    </tr>\n",
       "    <tr>\n",
       "      <th>0</th>\n",
       "      <td>6.265721</td>\n",
       "      <td>ASSIN 2</td>\n",
       "      <td>1</td>\n",
       "      <td>BERT-multilingual</td>\n",
       "    </tr>\n",
       "    <tr>\n",
       "      <th>1</th>\n",
       "      <td>3.696093</td>\n",
       "      <td>ASSIN 2</td>\n",
       "      <td>2</td>\n",
       "      <td>BERT-multilingual</td>\n",
       "    </tr>\n",
       "    <tr>\n",
       "      <th>2</th>\n",
       "      <td>1.358086</td>\n",
       "      <td>ASSIN 2</td>\n",
       "      <td>3</td>\n",
       "      <td>BERT-multilingual</td>\n",
       "    </tr>\n",
       "    <tr>\n",
       "      <th>3</th>\n",
       "      <td>0.383777</td>\n",
       "      <td>ASSIN 2</td>\n",
       "      <td>4</td>\n",
       "      <td>BERT-multilingual</td>\n",
       "    </tr>\n",
       "    <tr>\n",
       "      <th>4</th>\n",
       "      <td>0.032836</td>\n",
       "      <td>ASSIN 2</td>\n",
       "      <td>5</td>\n",
       "      <td>BERT-multilingual</td>\n",
       "    </tr>\n",
       "    <tr>\n",
       "      <th>0</th>\n",
       "      <td>3.585998</td>\n",
       "      <td>ASSIN 2</td>\n",
       "      <td>1</td>\n",
       "      <td>Ensemble ( stacking, 5-fold )</td>\n",
       "    </tr>\n",
       "    <tr>\n",
       "      <th>1</th>\n",
       "      <td>1.765864</td>\n",
       "      <td>ASSIN 2</td>\n",
       "      <td>2</td>\n",
       "      <td>Ensemble ( stacking, 5-fold )</td>\n",
       "    </tr>\n",
       "    <tr>\n",
       "      <th>2</th>\n",
       "      <td>0.536087</td>\n",
       "      <td>ASSIN 2</td>\n",
       "      <td>3</td>\n",
       "      <td>Ensemble ( stacking, 5-fold )</td>\n",
       "    </tr>\n",
       "    <tr>\n",
       "      <th>3</th>\n",
       "      <td>0.159993</td>\n",
       "      <td>ASSIN 2</td>\n",
       "      <td>4</td>\n",
       "      <td>Ensemble ( stacking, 5-fold )</td>\n",
       "    </tr>\n",
       "    <tr>\n",
       "      <th>4</th>\n",
       "      <td>0.128111</td>\n",
       "      <td>ASSIN 2</td>\n",
       "      <td>5</td>\n",
       "      <td>Ensemble ( stacking, 5-fold )</td>\n",
       "    </tr>\n",
       "    <tr>\n",
       "      <th>0</th>\n",
       "      <td>3.111972</td>\n",
       "      <td>ASSIN 2</td>\n",
       "      <td>1</td>\n",
       "      <td>Ensemble ( averaging )</td>\n",
       "    </tr>\n",
       "    <tr>\n",
       "      <th>1</th>\n",
       "      <td>2.928381</td>\n",
       "      <td>ASSIN 2</td>\n",
       "      <td>2</td>\n",
       "      <td>Ensemble ( averaging )</td>\n",
       "    </tr>\n",
       "    <tr>\n",
       "      <th>2</th>\n",
       "      <td>1.164618</td>\n",
       "      <td>ASSIN 2</td>\n",
       "      <td>3</td>\n",
       "      <td>Ensemble ( averaging )</td>\n",
       "    </tr>\n",
       "    <tr>\n",
       "      <th>3</th>\n",
       "      <td>0.382613</td>\n",
       "      <td>ASSIN 2</td>\n",
       "      <td>4</td>\n",
       "      <td>Ensemble ( averaging )</td>\n",
       "    </tr>\n",
       "    <tr>\n",
       "      <th>4</th>\n",
       "      <td>0.039629</td>\n",
       "      <td>ASSIN 2</td>\n",
       "      <td>5</td>\n",
       "      <td>Ensemble ( averaging )</td>\n",
       "    </tr>\n",
       "  </tbody>\n",
       "</table>\n",
       "</div>"
      ],
      "text/plain": [
       "   Average absolute error  dataset  score                          model\n",
       "0                1.413047  ASSIN 2      1                        RoBERTa\n",
       "1                2.391685  ASSIN 2      2                        RoBERTa\n",
       "2                1.058928  ASSIN 2      3                        RoBERTa\n",
       "3                0.426405  ASSIN 2      4                        RoBERTa\n",
       "4                0.089732  ASSIN 2      5                        RoBERTa\n",
       "0                6.265721  ASSIN 2      1              BERT-multilingual\n",
       "1                3.696093  ASSIN 2      2              BERT-multilingual\n",
       "2                1.358086  ASSIN 2      3              BERT-multilingual\n",
       "3                0.383777  ASSIN 2      4              BERT-multilingual\n",
       "4                0.032836  ASSIN 2      5              BERT-multilingual\n",
       "0                3.585998  ASSIN 2      1  Ensemble ( stacking, 5-fold )\n",
       "1                1.765864  ASSIN 2      2  Ensemble ( stacking, 5-fold )\n",
       "2                0.536087  ASSIN 2      3  Ensemble ( stacking, 5-fold )\n",
       "3                0.159993  ASSIN 2      4  Ensemble ( stacking, 5-fold )\n",
       "4                0.128111  ASSIN 2      5  Ensemble ( stacking, 5-fold )\n",
       "0                3.111972  ASSIN 2      1         Ensemble ( averaging )\n",
       "1                2.928381  ASSIN 2      2         Ensemble ( averaging )\n",
       "2                1.164618  ASSIN 2      3         Ensemble ( averaging )\n",
       "3                0.382613  ASSIN 2      4         Ensemble ( averaging )\n",
       "4                0.039629  ASSIN 2      5         Ensemble ( averaging )"
      ]
     },
     "execution_count": 80,
     "metadata": {},
     "output_type": "execute_result"
    }
   ],
   "source": [
    "def generate_grid(model_file, task_name, plot_title):\n",
    "    def generate_section(test_file, submission_file, dataset_name, plot_title):\n",
    "        dataplot = generate_scores_df(test_file, \n",
    "                           submission_file, \n",
    "                           task=task_name,\n",
    "                           f1_label=\"Gold scores\",\n",
    "                           f2_label=\"Average absolute error\")\n",
    "\n",
    "        value_rename = \"Gold scores vs. absolute error\"\n",
    "        idx_rename = \"sentence pair\"\n",
    "        variable_rename = \"model\"\n",
    "\n",
    "        dataplot = get_dataplot(dataplot, value_rename, idx_rename, variable_rename)\n",
    "\n",
    "        dataplot['dataset'] = dataset_name\n",
    "        dataplot['score'] = dataplot.index + 1\n",
    "        dataplot['model'] = plot_title\n",
    "        return dataplot\n",
    "\n",
    "    test_file = './assin2-test.xml'\n",
    "    submission_file = './samples/{0}.xml'.format(model_file)\n",
    "    task_name = 'similarity'\n",
    "    dataset_name = \"ASSIN 2\"\n",
    "    dataplot = generate_section(test_file, submission_file, dataset_name, plot_title)\n",
    "\n",
    "\n",
    "#     test_file = './sources/assin-ptbr-test.xml'\n",
    "#     submission_file = './generated_submissions/assin1ptbr/{0}.xml'.format(model_file)\n",
    "#     task_name = 'similarity'\n",
    "#     dataset_name = \"ASSIN 1 (PT-BR)\"\n",
    "#     df = generate_section(test_file, submission_file, dataset_name, plot_title)\n",
    "#     dataplot = dataplot.append(df)\n",
    "\n",
    "#     test_file = './sources/assin2-test.xml'\n",
    "#     submission_file = './generated_submissions/assin2-trainonly/{0}.xml'.format(model_file)\n",
    "#     task_name = 'similarity'\n",
    "#     dataset_name = \"ASSIN 2\"\n",
    "#     df = generate_section(test_file, submission_file, dataset_name, plot_title)\n",
    "#     dataplot = dataplot.append(df)\n",
    "\n",
    "\n",
    "    return dataplot\n",
    "#     g = sns.FacetGrid(dataplot, col=\"dataset\", legend_out=True)\n",
    "#     g.fig.subplots_adjust(top=0.5)\n",
    "#     g.fig.suptitle(plot_title, fontsize=16)\n",
    "#     return g.map(sns.barplot, \"score\", \"Average absolute error\")\n",
    "\n",
    "\n",
    "\n",
    "model_file = \"roberta\"\n",
    "task_name = 'similarity'\n",
    "plot_title = \"RoBERTa\"\n",
    "dataplot = generate_grid(model_file, task_name, plot_title)\n",
    "\n",
    "model_file = \"bert\"\n",
    "task_name = 'similarity'\n",
    "plot_title = \"BERT-multilingual\"\n",
    "df = generate_grid(model_file, task_name, plot_title)\n",
    "dataplot = dataplot.append(df)\n",
    "\n",
    "model_file = \"5fold_stacking\"\n",
    "task_name = 'similarity'\n",
    "plot_title = \"Ensemble ( stacking, 5-fold )\"\n",
    "df = generate_grid(model_file, task_name, plot_title)\n",
    "dataplot = dataplot.append(df)\n",
    "\n",
    "model_file = \"average\"\n",
    "task_name = 'similarity'\n",
    "plot_title = \"Ensemble ( averaging )\"\n",
    "df = generate_grid(model_file, task_name, plot_title)\n",
    "dataplot = dataplot.append(df)\n",
    "\n",
    "dataplot"
   ]
  },
  {
   "cell_type": "code",
   "execution_count": 81,
   "metadata": {},
   "outputs": [
    {
     "data": {
      "text/plain": [
       "Text(0, 0.5, 'Mean squared error')"
      ]
     },
     "execution_count": 81,
     "metadata": {},
     "output_type": "execute_result"
    },
    {
     "data": {
      "image/png": "[encoded data removed]",
      "text/plain": [
       "<Figure size 1440x720 with 1 Axes>"
      ]
     },
     "metadata": {},
     "output_type": "display_data"
    }
   ],
   "source": [
    "import matplotlib.pyplot as plt\n",
    "plt.rcParams[\"figure.figsize\"] = (20,10)\n",
    "\n",
    "# sns.set(font_scale=0.95)\n",
    "# g = sns.FacetGrid(dataplot, row=\"dataset\", col=\"model\", margin_titles=True, palette=\"gray\")\n",
    "# g.map(sns.lineplot, x=\"score\", y=\"Average absolute error\", hue=\"model\");\n",
    "dataplot = dataplot.rename(columns={\n",
    "    \"Average absolute error\" : \"Mean squared error\",\n",
    "    \"score\": \"score range\"\n",
    "})\n",
    "# g = sns.FacetGrid(dataplot, col=\"dataset\", hue=\"model\", margin_titles=True, legend_out=True)\n",
    "# g.map(sns.lineplot, \"score\", \"Mean squared error\")\n",
    "# g.add_legend()\n",
    "# g.fig.subplots_adjust(top=0.8)\n",
    "# g.fig.suptitle('Semantic similarity: Mean squared error on each score range', fontsize=14)\n",
    "\n",
    "sns.set_style(\"white\")\n",
    "g = sns.barplot( x=\"score range\", y=\"Mean squared error\", hue=\"model\", data=dataplot, palette='gray')\n",
    "\n",
    "g.set(xticklabels=['[1.0, 1.4]', '[1.5, 2.4]', '[2.5, 3.4]', '[3.5, 4.4]', '[4.5, 5.0]'])\n",
    "\n",
    "ax = g\n",
    "plt.setp(ax.get_legend().get_texts(), fontsize='14') # for legend text\n",
    "plt.setp(ax.get_legend().get_title(), fontsize='14') # for legend title\n",
    "\n",
    "ax.tick_params(axis='both', which='major', labelsize=15)\n",
    "ax.tick_params(axis='both', which='minor', labelsize=15)\n",
    "\n",
    "plt.xlabel('score intervals', fontsize=18)\n",
    "plt.ylabel('Mean squared error', fontsize=16)"
   ]
  },
  {
   "cell_type": "code",
   "execution_count": 77,
   "metadata": {},
   "outputs": [
    {
     "data": {
      "text/plain": [
       "Text(0, 0.5, 'Pearson correlation')"
      ]
     },
     "execution_count": 77,
     "metadata": {},
     "output_type": "execute_result"
    },
    {
     "data": {
      "image/png": "[encoded data removed]",
      "text/plain": [
       "<Figure size 1440x720 with 1 Axes>"
      ]
     },
     "metadata": {},
     "output_type": "display_data"
    }
   ],
   "source": [
    "from collections import defaultdict\n",
    "from scipy.stats import pearsonr\n",
    "def generate_scores_df(f1=None, f2=None, f1_label='f1_label', f2_label='f2_label', task=None):\n",
    "    f1_list = np.array(extract_scores(f1, task))\n",
    "    f2_list = np.array(extract_scores(f2, task))\n",
    "    df_dct = defaultdict(list)\n",
    "    for idx, item in enumerate(f1_list):\n",
    "        df_dct[round(item)].append({'gold': item, 'pred': f2_list[idx]})\n",
    "    for key, value in df_dct.items():\n",
    "        new_df = pd.DataFrame(df_dct[key])\n",
    "        gold = new_df['gold'].values.tolist()\n",
    "        pred = new_df['pred'].values.tolist()\n",
    "        goal = pearsonr(gold, pred)[0]\n",
    "        df_dct[key] = goal\n",
    "    keys = []\n",
    "    values = []\n",
    "    for key, value in dict(df_dct).items():\n",
    "        keys.append(key)\n",
    "        values.append(value)\n",
    "    return pd.DataFrame({'score': keys, 'pearson': values}).sort_values('score')\n",
    "\n",
    "def generate_grid(model_file, task_name, plot_title):\n",
    "    def generate_section(test_file, submission_file, dataset_name, plot_title):\n",
    "        dataplot = generate_scores_df(test_file, \n",
    "                           submission_file, \n",
    "                           task=task_name,\n",
    "                           f1_label=\"Gold scores\",\n",
    "                           f2_label=\"Average absolute error\")\n",
    "\n",
    "#         value_rename = \"Gold scores vs. absolute error\"\n",
    "#         idx_rename = \"sentence pair\"\n",
    "#         variable_rename = \"model\"\n",
    "\n",
    "#         dataplot = get_dataplot(dataplot, value_rename, idx_rename, variable_rename)\n",
    "\n",
    "#         dataplot['dataset'] = dataset_name\n",
    "#         dataplot['score'] = dataplot.index + 1\n",
    "        dataplot['model'] = plot_title\n",
    "        return dataplot\n",
    "\n",
    "    test_file = './assin2-test.xml'\n",
    "    submission_file = './samples/{0}.xml'.format(model_file)\n",
    "    task_name = 'similarity'\n",
    "    dataset_name = \"ASSIN 2\"\n",
    "    dataplot = generate_section(test_file, submission_file, dataset_name, plot_title)\n",
    "    return dataplot\n",
    "\n",
    "model_file = \"roberta\"\n",
    "task_name = 'similarity'\n",
    "plot_title = \"RoBERTa\"\n",
    "dataplot = generate_grid(model_file, task_name, plot_title)\n",
    "\n",
    "model_file = \"bert\"\n",
    "task_name = 'similarity'\n",
    "plot_title = \"BERT-multilingual\"\n",
    "df = generate_grid(model_file, task_name, plot_title)\n",
    "dataplot = dataplot.append(df)\n",
    "\n",
    "model_file = \"5fold_stacking\"\n",
    "task_name = 'similarity'\n",
    "plot_title = \"Ensemble ( stacking, 5-fold )\"\n",
    "df = generate_grid(model_file, task_name, plot_title)\n",
    "dataplot = dataplot.append(df)\n",
    "\n",
    "model_file = \"average\"\n",
    "task_name = 'similarity'\n",
    "plot_title = \"Ensemble ( averaging )\"\n",
    "df = generate_grid(model_file, task_name, plot_title)\n",
    "dataplot = dataplot.append(df)\n",
    "\n",
    "dataplot\n",
    "\n",
    "import matplotlib.pyplot as plt\n",
    "plt.rcParams[\"figure.figsize\"] = (20,10)\n",
    "dataplot = dataplot.rename(\n",
    "    columns={\n",
    "        \"score\": \"score range\"\n",
    "    }\n",
    ")\n",
    "sns.set_style(\"white\")\n",
    "g = sns.barplot( x=\"score range\", y=\"pearson\", hue=\"model\", data=dataplot, palette='gray')\n",
    "\n",
    "g.set(xticklabels=['[1.0, 1.4]', '[1.5, 2.4]', '[2.5, 3.4]', '[3.5, 4.4]', '[4.5, 5.0]'])\n",
    "\n",
    "ax = g\n",
    "plt.setp(ax.get_legend().get_texts(), fontsize='14') # for legend text\n",
    "plt.setp(ax.get_legend().get_title(), fontsize='14') # for legend title\n",
    "\n",
    "ax.tick_params(axis='both', which='major', labelsize=15)\n",
    "ax.tick_params(axis='both', which='minor', labelsize=15)\n",
    "\n",
    "plt.xlabel('score intervals', fontsize=18)\n",
    "plt.ylabel('Pearson correlation', fontsize=16)"
   ]
  },
  {
   "cell_type": "code",
   "execution_count": 233,
   "metadata": {},
   "outputs": [
    {
     "data": {
      "text/plain": [
       "<matplotlib.axes._subplots.AxesSubplot at 0x7fd6f863eeb8>"
      ]
     },
     "execution_count": 233,
     "metadata": {},
     "output_type": "execute_result"
    },
    {
     "data": {
      "image/png": "[encoded data removed]",
      "text/plain": [
       "<Figure size 432x288 with 1 Axes>"
      ]
     },
     "metadata": {},
     "output_type": "display_data"
    }
   ],
   "source": [
    "\n",
    "\n",
    "sns.distplot(extract_scores('./sources/assin2-test.xml', task=\"similarity\"))"
   ]
  },
  {
   "cell_type": "code",
   "execution_count": 236,
   "metadata": {},
   "outputs": [
    {
     "data": {
      "text/plain": [
       "<matplotlib.axes._subplots.AxesSubplot at 0x7fd6f8920ba8>"
      ]
     },
     "execution_count": 236,
     "metadata": {},
     "output_type": "execute_result"
    },
    {
     "data": {
      "image/png": "[encoded data removed]",
      "text/plain": [
       "<Figure size 432x288 with 1 Axes>"
      ]
     },
     "metadata": {},
     "output_type": "display_data"
    }
   ],
   "source": [
    "sns.distplot(extract_scores('./sources/assin-ptpt-test.xml', task=\"similarity\"))"
   ]
  },
  {
   "cell_type": "code",
   "execution_count": 147,
   "metadata": {},
   "outputs": [],
   "source": [
    "def generate_final_plot(selected_dataset_name, top_param=1):\n",
    "    dataplot_section = dataplot[dataplot['dataset']==selected_dataset_name]\n",
    "    # Draw a nested barplot to show survival for class and sex\n",
    "    g = sns.catplot(x=\"score\", y=\"Average absolute error\", hue=\"model\", data=dataplot_section,\n",
    "                    height=6, kind=\"bar\", palette=\"gray\")\n",
    "    g.despine(left=True)\n",
    "    g.fig.subplots_adjust(top=top_param)\n",
    "    g.fig.suptitle(selected_dataset_name, fontsize=16)"
   ]
  },
  {
   "cell_type": "code",
   "execution_count": 148,
   "metadata": {},
   "outputs": [
    {
     "data": {
      "image/png": "[encoded data removed]",
      "text/plain": [
       "<Figure size 630.35x432 with 1 Axes>"
      ]
     },
     "metadata": {},
     "output_type": "display_data"
    }
   ],
   "source": [
    "generate_final_plot(\"ASSIN 2\")"
   ]
  },
  {
   "cell_type": "code",
   "execution_count": 149,
   "metadata": {},
   "outputs": [
    {
     "data": {
      "image/png": "[encoded data removed]",
      "text/plain": [
       "<Figure size 630.35x432 with 1 Axes>"
      ]
     },
     "metadata": {},
     "output_type": "display_data"
    }
   ],
   "source": [
    "generate_final_plot(\"ASSIN 1 (PT-PT)\")"
   ]
  },
  {
   "cell_type": "code",
   "execution_count": 150,
   "metadata": {},
   "outputs": [
    {
     "data": {
      "image/png": "[encoded data removed]",
      "text/plain": [
       "<Figure size 630.35x432 with 1 Axes>"
      ]
     },
     "metadata": {},
     "output_type": "display_data"
    }
   ],
   "source": [
    "generate_final_plot(\"ASSIN 1 (PT-BR)\", top_param=0.95)"
   ]
  },
  {
   "cell_type": "code",
   "execution_count": 1,
   "metadata": {},
   "outputs": [
    {
     "ename": "NameError",
     "evalue": "name 'np' is not defined",
     "output_type": "error",
     "traceback": [
      "\u001b[0;31m---------------------------------------------------------------------------\u001b[0m",
      "\u001b[0;31mNameError\u001b[0m                                 Traceback (most recent call last)",
      "\u001b[0;32m<ipython-input-1-58f7e6d2fb80>\u001b[0m in \u001b[0;36m<module>\u001b[0;34m\u001b[0m\n\u001b[1;32m     73\u001b[0m \u001b[0mtask_name\u001b[0m \u001b[0;34m=\u001b[0m \u001b[0;34m'similarity'\u001b[0m\u001b[0;34m\u001b[0m\u001b[0;34m\u001b[0m\u001b[0m\n\u001b[1;32m     74\u001b[0m \u001b[0mplot_title\u001b[0m \u001b[0;34m=\u001b[0m \u001b[0;34m\"RoBERTa\"\u001b[0m\u001b[0;34m\u001b[0m\u001b[0;34m\u001b[0m\u001b[0m\n\u001b[0;32m---> 75\u001b[0;31m \u001b[0mdataplot\u001b[0m \u001b[0;34m=\u001b[0m \u001b[0mgenerate_grid\u001b[0m\u001b[0;34m(\u001b[0m\u001b[0mmodel_file\u001b[0m\u001b[0;34m,\u001b[0m \u001b[0mtask_name\u001b[0m\u001b[0;34m,\u001b[0m \u001b[0mplot_title\u001b[0m\u001b[0;34m)\u001b[0m\u001b[0;34m\u001b[0m\u001b[0;34m\u001b[0m\u001b[0m\n\u001b[0m\u001b[1;32m     76\u001b[0m \u001b[0;34m\u001b[0m\u001b[0m\n\u001b[1;32m     77\u001b[0m \u001b[0mmodel_file\u001b[0m \u001b[0;34m=\u001b[0m \u001b[0;34m\"submission-bert\"\u001b[0m\u001b[0;34m\u001b[0m\u001b[0;34m\u001b[0m\u001b[0m\n",
      "\u001b[0;32m<ipython-input-1-58f7e6d2fb80>\u001b[0m in \u001b[0;36mgenerate_grid\u001b[0;34m(model_file, task_name, plot_title)\u001b[0m\n\u001b[1;32m     44\u001b[0m     \u001b[0mtask_name\u001b[0m \u001b[0;34m=\u001b[0m \u001b[0;34m'similarity'\u001b[0m\u001b[0;34m\u001b[0m\u001b[0;34m\u001b[0m\u001b[0m\n\u001b[1;32m     45\u001b[0m     \u001b[0mdataset_name\u001b[0m \u001b[0;34m=\u001b[0m \u001b[0;34m\"ASSIN 1 (PT-PT)\"\u001b[0m\u001b[0;34m\u001b[0m\u001b[0;34m\u001b[0m\u001b[0m\n\u001b[0;32m---> 46\u001b[0;31m     \u001b[0mdataplot\u001b[0m \u001b[0;34m=\u001b[0m \u001b[0mgenerate_section\u001b[0m\u001b[0;34m(\u001b[0m\u001b[0mtest_file\u001b[0m\u001b[0;34m,\u001b[0m \u001b[0msubmission_file\u001b[0m\u001b[0;34m,\u001b[0m \u001b[0mdataset_name\u001b[0m\u001b[0;34m,\u001b[0m \u001b[0mplot_title\u001b[0m\u001b[0;34m)\u001b[0m\u001b[0;34m\u001b[0m\u001b[0;34m\u001b[0m\u001b[0m\n\u001b[0m\u001b[1;32m     47\u001b[0m \u001b[0;34m\u001b[0m\u001b[0m\n\u001b[1;32m     48\u001b[0m \u001b[0;34m\u001b[0m\u001b[0m\n",
      "\u001b[0;32m<ipython-input-1-58f7e6d2fb80>\u001b[0m in \u001b[0;36mgenerate_section\u001b[0;34m(test_file, submission_file, dataset_name, plot_title)\u001b[0m\n\u001b[1;32m     28\u001b[0m                            \u001b[0msubmission_file\u001b[0m\u001b[0;34m,\u001b[0m\u001b[0;34m\u001b[0m\u001b[0;34m\u001b[0m\u001b[0m\n\u001b[1;32m     29\u001b[0m                            \u001b[0mf1_label\u001b[0m\u001b[0;34m=\u001b[0m\u001b[0;34m\"Gold\"\u001b[0m\u001b[0;34m,\u001b[0m\u001b[0;34m\u001b[0m\u001b[0;34m\u001b[0m\u001b[0m\n\u001b[0;32m---> 30\u001b[0;31m                            f2_label=\"Prediction\")\n\u001b[0m\u001b[1;32m     31\u001b[0m \u001b[0;34m\u001b[0m\u001b[0m\n\u001b[1;32m     32\u001b[0m         \u001b[0mvalue_rename\u001b[0m \u001b[0;34m=\u001b[0m \u001b[0;34m\"Gold scores vs. absolute error\"\u001b[0m\u001b[0;34m\u001b[0m\u001b[0;34m\u001b[0m\u001b[0m\n",
      "\u001b[0;32m<ipython-input-1-58f7e6d2fb80>\u001b[0m in \u001b[0;36mgenerate_scores_df\u001b[0;34m(f1, f2, f1_label, f2_label)\u001b[0m\n\u001b[1;32m      9\u001b[0m \u001b[0;34m\u001b[0m\u001b[0m\n\u001b[1;32m     10\u001b[0m \u001b[0;32mdef\u001b[0m \u001b[0mgenerate_scores_df\u001b[0m\u001b[0;34m(\u001b[0m\u001b[0mf1\u001b[0m\u001b[0;34m=\u001b[0m\u001b[0;32mNone\u001b[0m\u001b[0;34m,\u001b[0m \u001b[0mf2\u001b[0m\u001b[0;34m=\u001b[0m\u001b[0;32mNone\u001b[0m\u001b[0;34m,\u001b[0m \u001b[0mf1_label\u001b[0m\u001b[0;34m=\u001b[0m\u001b[0;34m'f1_label'\u001b[0m\u001b[0;34m,\u001b[0m \u001b[0mf2_label\u001b[0m\u001b[0;34m=\u001b[0m\u001b[0;34m'f2_label'\u001b[0m\u001b[0;34m)\u001b[0m\u001b[0;34m:\u001b[0m\u001b[0;34m\u001b[0m\u001b[0;34m\u001b[0m\u001b[0m\n\u001b[0;32m---> 11\u001b[0;31m     \u001b[0mf1_list\u001b[0m \u001b[0;34m=\u001b[0m \u001b[0mnp\u001b[0m\u001b[0;34m.\u001b[0m\u001b[0marray\u001b[0m\u001b[0;34m(\u001b[0m\u001b[0mextract_scores\u001b[0m\u001b[0;34m(\u001b[0m\u001b[0mf1\u001b[0m\u001b[0;34m)\u001b[0m\u001b[0;34m)\u001b[0m\u001b[0;34m\u001b[0m\u001b[0;34m\u001b[0m\u001b[0m\n\u001b[0m\u001b[1;32m     12\u001b[0m     \u001b[0mf2_list\u001b[0m \u001b[0;34m=\u001b[0m \u001b[0mnp\u001b[0m\u001b[0;34m.\u001b[0m\u001b[0marray\u001b[0m\u001b[0;34m(\u001b[0m\u001b[0mextract_scores\u001b[0m\u001b[0;34m(\u001b[0m\u001b[0mf2\u001b[0m\u001b[0;34m)\u001b[0m\u001b[0;34m)\u001b[0m\u001b[0;34m\u001b[0m\u001b[0;34m\u001b[0m\u001b[0m\n\u001b[1;32m     13\u001b[0m     \u001b[0mdf\u001b[0m \u001b[0;34m=\u001b[0m \u001b[0mpd\u001b[0m\u001b[0;34m.\u001b[0m\u001b[0mDataFrame\u001b[0m\u001b[0;34m(\u001b[0m\u001b[0;34m{\u001b[0m\u001b[0mf1_label\u001b[0m\u001b[0;34m:\u001b[0m \u001b[0mf1_list\u001b[0m\u001b[0;34m,\u001b[0m \u001b[0mf2_label\u001b[0m\u001b[0;34m:\u001b[0m \u001b[0mf2_list\u001b[0m\u001b[0;34m}\u001b[0m\u001b[0;34m)\u001b[0m\u001b[0;34m\u001b[0m\u001b[0;34m\u001b[0m\u001b[0m\n",
      "\u001b[0;31mNameError\u001b[0m: name 'np' is not defined"
     ]
    }
   ],
   "source": [
    "def extract_scores(f):\n",
    "    f_tree = ET.parse(f)\n",
    "    f_root = f_tree.getroot()\n",
    "    f_list = []\n",
    "    for pair in f_root.iter('pair'):\n",
    "        found_score = pair.get('entailment')\n",
    "        f_list.append(found_score)\n",
    "    return f_list\n",
    "\n",
    "def generate_scores_df(f1=None, f2=None, f1_label='f1_label', f2_label='f2_label'):\n",
    "    f1_list = np.array(extract_scores(f1))\n",
    "    f2_list = np.array(extract_scores(f2))\n",
    "    df = pd.DataFrame({f1_label: f1_list, f2_label: f2_list})\n",
    "    return df\n",
    "    \n",
    "def get_dataplot(dataplot, value_rename, idx_rename, variable_rename, num_samples=500):\n",
    "#     dataplot = dataplot.sample(num_samples)\n",
    "    dataplot = dataplot.rename(columns={\n",
    "        \"value\" : value_rename,\n",
    "        \"idx\": idx_rename,\n",
    "        \"variable\": variable_rename\n",
    "    })\n",
    "    return dataplot\n",
    "\n",
    "def generate_grid(model_file, task_name, plot_title):\n",
    "    def generate_section(test_file, submission_file, dataset_name, plot_title):\n",
    "        dataplot = generate_scores_df(test_file, \n",
    "                           submission_file,\n",
    "                           f1_label=\"Gold\",\n",
    "                           f2_label=\"Prediction\")\n",
    "\n",
    "        value_rename = \"Gold scores vs. absolute error\"\n",
    "        idx_rename = \"sentence pair\"\n",
    "        variable_rename = \"model\"\n",
    "\n",
    "        dataplot = get_dataplot(dataplot, value_rename, idx_rename, variable_rename)\n",
    "\n",
    "        dataplot['dataset'] = dataset_name\n",
    "        dataplot['model'] = plot_title\n",
    "        return dataplot\n",
    "\n",
    "    test_file = './sources/assin-ptpt-test.xml'\n",
    "    submission_file = './generated_submissions/assin1ptpt/{0}.xml'.format(model_file)\n",
    "    task_name = 'similarity'\n",
    "    dataset_name = \"ASSIN 1 (PT-PT)\"\n",
    "    dataplot = generate_section(test_file, submission_file, dataset_name, plot_title)\n",
    "\n",
    "\n",
    "    test_file = './sources/assin-ptbr-test.xml'\n",
    "    submission_file = './generated_submissions/assin1ptbr/{0}.xml'.format(model_file)\n",
    "    task_name = 'similarity'\n",
    "    dataset_name = \"ASSIN 1 (PT-BR)\"\n",
    "    df = generate_section(test_file, submission_file, dataset_name, plot_title)\n",
    "    dataplot = dataplot.append(df)\n",
    "\n",
    "    test_file = './sources/assin2-test.xml'\n",
    "    submission_file = './generated_submissions/assin2-trainonly/{0}.xml'.format(model_file)\n",
    "    task_name = 'similarity'\n",
    "    dataset_name = \"ASSIN 2\"\n",
    "    df = generate_section(test_file, submission_file, dataset_name, plot_title)\n",
    "    dataplot = dataplot.append(df)\n",
    "\n",
    "\n",
    "    return dataplot\n",
    "#     g = sns.FacetGrid(dataplot, col=\"dataset\", legend_out=True)\n",
    "#     g.fig.subplots_adjust(top=0.5)\n",
    "#     g.fig.suptitle(plot_title, fontsize=16)\n",
    "#     return g.map(sns.barplot, \"score\", \"Average absolute error\")\n",
    "\n",
    "\n",
    "\n",
    "model_file = \"submission-roberta\"\n",
    "task_name = 'similarity'\n",
    "plot_title = \"RoBERTa\"\n",
    "dataplot = generate_grid(model_file, task_name, plot_title)\n",
    "\n",
    "model_file = \"submission-bert\"\n",
    "task_name = 'similarity'\n",
    "plot_title = \"BERT-multilingual\"\n",
    "df = generate_grid(model_file, task_name, plot_title)\n",
    "dataplot = dataplot.append(df)\n",
    "\n",
    "model_file = \"final_submission_5folds\"\n",
    "task_name = 'similarity'\n",
    "plot_title = \"Ensemble ( stacking, 5-fold )\"\n",
    "df = generate_grid(model_file, task_name, plot_title)\n",
    "dataplot = dataplot.append(df)\n",
    "\n",
    "model_file = \"submission-average\"\n",
    "task_name = 'similarity'\n",
    "plot_title = \"Ensemble ( averaging )\"\n",
    "df = generate_grid(model_file, task_name, plot_title)\n",
    "dataplot = dataplot.append(df)\n",
    "\n",
    "dataplot.head()"
   ]
  },
  {
   "cell_type": "code",
   "execution_count": 12,
   "metadata": {},
   "outputs": [
    {
     "data": {
      "text/plain": [
       "array([[1150,   74],\n",
       "       [ 212, 1012]])"
      ]
     },
     "execution_count": 12,
     "metadata": {},
     "output_type": "execute_result"
    }
   ],
   "source": [
    "\n",
    "from sklearn.metrics import confusion_matrix\n",
    "\n",
    "test_file = './sources/assin2-test.xml'\n",
    "submission_file = './samples/5fold_stacking.xml'\n",
    "df = generate_scores_df(test_file, submission_file)\n",
    "y_true = df['f1_label']\n",
    "y_pred = df['f2_label']\n",
    "\n",
    "cm = confusion_matrix(y_true, y_pred)\n",
    "cm"
   ]
  },
  {
   "cell_type": "code",
   "execution_count": 13,
   "metadata": {},
   "outputs": [
    {
     "data": {
      "text/plain": [
       "array([[1146,   78],\n",
       "       [ 206, 1018]])"
      ]
     },
     "execution_count": 13,
     "metadata": {},
     "output_type": "execute_result"
    }
   ],
   "source": [
    "test_file = './sources/assin2-test.xml'\n",
    "submission_file = './samples/roberta.xml'\n",
    "df = generate_scores_df(test_file, submission_file)\n",
    "y_true = df['f1_label']\n",
    "y_pred = df['f2_label']\n",
    "\n",
    "cm = confusion_matrix(y_true, y_pred)\n",
    "cm"
   ]
  },
  {
   "cell_type": "code",
   "execution_count": 2,
   "metadata": {},
   "outputs": [
    {
     "ename": "NameError",
     "evalue": "name 'dataplot' is not defined",
     "output_type": "error",
     "traceback": [
      "\u001b[0;31m---------------------------------------------------------------------------\u001b[0m",
      "\u001b[0;31mNameError\u001b[0m                                 Traceback (most recent call last)",
      "\u001b[0;32m<ipython-input-2-83e4c017de11>\u001b[0m in \u001b[0;36m<module>\u001b[0;34m\u001b[0m\n\u001b[1;32m      9\u001b[0m     \u001b[0;32mreturn\u001b[0m \u001b[0my_true\u001b[0m\u001b[0;34m,\u001b[0m \u001b[0my_pred\u001b[0m\u001b[0;34m\u001b[0m\u001b[0;34m\u001b[0m\u001b[0m\n\u001b[1;32m     10\u001b[0m \u001b[0;34m\u001b[0m\u001b[0m\n\u001b[0;32m---> 11\u001b[0;31m \u001b[0my_test\u001b[0m\u001b[0;34m,\u001b[0m \u001b[0my_pred\u001b[0m \u001b[0;34m=\u001b[0m \u001b[0mgenerate_confusion_matrix\u001b[0m\u001b[0;34m(\u001b[0m\u001b[0;34m\"ASSIN 2\"\u001b[0m\u001b[0;34m,\u001b[0m \u001b[0;34m\"RoBERTa\"\u001b[0m\u001b[0;34m)\u001b[0m\u001b[0;34m\u001b[0m\u001b[0;34m\u001b[0m\u001b[0m\n\u001b[0m\u001b[1;32m     12\u001b[0m \u001b[0;34m\u001b[0m\u001b[0m\n\u001b[1;32m     13\u001b[0m \u001b[0mmatthews_corrcoef\u001b[0m\u001b[0;34m(\u001b[0m\u001b[0my_test\u001b[0m\u001b[0;34m,\u001b[0m \u001b[0my_pred\u001b[0m\u001b[0;34m)\u001b[0m\u001b[0;34m\u001b[0m\u001b[0;34m\u001b[0m\u001b[0m\n",
      "\u001b[0;32m<ipython-input-2-83e4c017de11>\u001b[0m in \u001b[0;36mgenerate_confusion_matrix\u001b[0;34m(selected_dataset_name, model_name, top_param)\u001b[0m\n\u001b[1;32m      3\u001b[0m \u001b[0;34m\u001b[0m\u001b[0m\n\u001b[1;32m      4\u001b[0m \u001b[0;32mdef\u001b[0m \u001b[0mgenerate_confusion_matrix\u001b[0m\u001b[0;34m(\u001b[0m\u001b[0mselected_dataset_name\u001b[0m\u001b[0;34m,\u001b[0m \u001b[0mmodel_name\u001b[0m\u001b[0;34m,\u001b[0m \u001b[0mtop_param\u001b[0m\u001b[0;34m=\u001b[0m\u001b[0;36m1\u001b[0m\u001b[0;34m)\u001b[0m\u001b[0;34m:\u001b[0m\u001b[0;34m\u001b[0m\u001b[0;34m\u001b[0m\u001b[0m\n\u001b[0;32m----> 5\u001b[0;31m     \u001b[0mdataplot_section\u001b[0m \u001b[0;34m=\u001b[0m \u001b[0mdataplot\u001b[0m\u001b[0;34m[\u001b[0m\u001b[0mdataplot\u001b[0m\u001b[0;34m[\u001b[0m\u001b[0;34m'dataset'\u001b[0m\u001b[0;34m]\u001b[0m\u001b[0;34m==\u001b[0m\u001b[0mselected_dataset_name\u001b[0m\u001b[0;34m]\u001b[0m\u001b[0;34m\u001b[0m\u001b[0;34m\u001b[0m\u001b[0m\n\u001b[0m\u001b[1;32m      6\u001b[0m     \u001b[0mdataplot_section\u001b[0m \u001b[0;34m=\u001b[0m \u001b[0mdataplot_section\u001b[0m\u001b[0;34m[\u001b[0m\u001b[0mdataplot_section\u001b[0m\u001b[0;34m[\u001b[0m\u001b[0;34m'model'\u001b[0m\u001b[0;34m]\u001b[0m\u001b[0;34m==\u001b[0m\u001b[0mmodel_name\u001b[0m\u001b[0;34m]\u001b[0m\u001b[0;34m\u001b[0m\u001b[0;34m\u001b[0m\u001b[0m\n\u001b[1;32m      7\u001b[0m     \u001b[0my_true\u001b[0m \u001b[0;34m=\u001b[0m \u001b[0mdataplot_section\u001b[0m\u001b[0;34m[\u001b[0m\u001b[0;34m'Gold'\u001b[0m\u001b[0;34m]\u001b[0m\u001b[0;34m.\u001b[0m\u001b[0mvalues\u001b[0m\u001b[0;34m.\u001b[0m\u001b[0mtolist\u001b[0m\u001b[0;34m(\u001b[0m\u001b[0;34m)\u001b[0m\u001b[0;34m\u001b[0m\u001b[0;34m\u001b[0m\u001b[0m\n",
      "\u001b[0;31mNameError\u001b[0m: name 'dataplot' is not defined"
     ]
    }
   ],
   "source": [
    "from sklearn.metrics import confusion_matrix\n",
    "from sklearn.metrics import matthews_corrcoef\n",
    "\n",
    "def generate_confusion_matrix(selected_dataset_name, model_name, top_param=1):\n",
    "    dataplot_section = dataplot[dataplot['dataset']==selected_dataset_name]\n",
    "    dataplot_section = dataplot_section[dataplot_section['model']==model_name]\n",
    "    y_true = dataplot_section['Gold'].values.tolist()\n",
    "    y_pred = dataplot_section['Prediction'].values.tolist()\n",
    "    return y_true, y_pred\n",
    "    \n",
    "y_test, y_pred = generate_confusion_matrix(\"ASSIN 2\", \"RoBERTa\")\n",
    "\n",
    "matthews_corrcoef(y_test, y_pred) "
   ]
  },
  {
   "cell_type": "code",
   "execution_count": 181,
   "metadata": {},
   "outputs": [
    {
     "data": {
      "text/html": [
       "<div>\n",
       "<style scoped>\n",
       "    .dataframe tbody tr th:only-of-type {\n",
       "        vertical-align: middle;\n",
       "    }\n",
       "\n",
       "    .dataframe tbody tr th {\n",
       "        vertical-align: top;\n",
       "    }\n",
       "\n",
       "    .dataframe thead th {\n",
       "        text-align: right;\n",
       "    }\n",
       "</style>\n",
       "<table border=\"1\" class=\"dataframe\">\n",
       "  <thead>\n",
       "    <tr style=\"text-align: right;\">\n",
       "      <th></th>\n",
       "      <th>model</th>\n",
       "    </tr>\n",
       "  </thead>\n",
       "  <tbody>\n",
       "    <tr>\n",
       "      <th>0</th>\n",
       "      <td>RoBERTa</td>\n",
       "    </tr>\n",
       "    <tr>\n",
       "      <th>0</th>\n",
       "      <td>BERT-multilingual</td>\n",
       "    </tr>\n",
       "    <tr>\n",
       "      <th>0</th>\n",
       "      <td>Ensemble ( stacking, 5-fold )</td>\n",
       "    </tr>\n",
       "    <tr>\n",
       "      <th>0</th>\n",
       "      <td>Ensemble ( averaging )</td>\n",
       "    </tr>\n",
       "  </tbody>\n",
       "</table>\n",
       "</div>"
      ],
      "text/plain": [
       "                           model\n",
       "0                        RoBERTa\n",
       "0              BERT-multilingual\n",
       "0  Ensemble ( stacking, 5-fold )\n",
       "0         Ensemble ( averaging )"
      ]
     },
     "execution_count": 181,
     "metadata": {},
     "output_type": "execute_result"
    }
   ],
   "source": [
    "y_test, y_pred = generate_confusion_matrix(\"ASSIN 2\", \"BERT-multilingual\")\n",
    "\n",
    "dataplot[['model']].drop_duplicates()\n",
    "\n",
    "# matthews_corrcoef(y_test, y_pred) "
   ]
  },
  {
   "cell_type": "code",
   "execution_count": 182,
   "metadata": {},
   "outputs": [
    {
     "data": {
      "text/plain": [
       "0.6768082082637692"
      ]
     },
     "execution_count": 182,
     "metadata": {},
     "output_type": "execute_result"
    }
   ],
   "source": [
    "y_test, y_pred = generate_confusion_matrix(\"ASSIN 2\", \"BERT-multilingual\")\n",
    "matthews_corrcoef(y_test, y_pred) "
   ]
  },
  {
   "cell_type": "code",
   "execution_count": 183,
   "metadata": {},
   "outputs": [
    {
     "data": {
      "text/plain": [
       "0.6176862005394158"
      ]
     },
     "execution_count": 183,
     "metadata": {},
     "output_type": "execute_result"
    }
   ],
   "source": [
    "y_test, y_pred = generate_confusion_matrix(\"ASSIN 2\", \"RoBERTa\")\n",
    "matthews_corrcoef(y_test, y_pred) "
   ]
  },
  {
   "cell_type": "code",
   "execution_count": 184,
   "metadata": {},
   "outputs": [
    {
     "data": {
      "text/plain": [
       "0.6814411489887574"
      ]
     },
     "execution_count": 184,
     "metadata": {},
     "output_type": "execute_result"
    }
   ],
   "source": [
    "y_test, y_pred = generate_confusion_matrix(\"ASSIN 2\", \"Ensemble ( stacking, 5-fold )\")\n",
    "matthews_corrcoef(y_test, y_pred) "
   ]
  },
  {
   "cell_type": "code",
   "execution_count": 185,
   "metadata": {},
   "outputs": [
    {
     "data": {
      "text/plain": [
       "0.6650452777706922"
      ]
     },
     "execution_count": 185,
     "metadata": {},
     "output_type": "execute_result"
    }
   ],
   "source": [
    "y_test, y_pred = generate_confusion_matrix(\"ASSIN 2\", \"Ensemble ( averaging )\")\n",
    "matthews_corrcoef(y_test, y_pred) "
   ]
  },
  {
   "cell_type": "code",
   "execution_count": 186,
   "metadata": {},
   "outputs": [
    {
     "data": {
      "text/plain": [
       "0.49873527588790795"
      ]
     },
     "execution_count": 186,
     "metadata": {},
     "output_type": "execute_result"
    }
   ],
   "source": [
    "y_test, y_pred = generate_confusion_matrix(\"ASSIN 1 (PT-PT)\", \"BERT-multilingual\")\n",
    "matthews_corrcoef(y_test, y_pred) "
   ]
  },
  {
   "cell_type": "code",
   "execution_count": 187,
   "metadata": {},
   "outputs": [
    {
     "data": {
      "text/plain": [
       "0.5443964599436409"
      ]
     },
     "execution_count": 187,
     "metadata": {},
     "output_type": "execute_result"
    }
   ],
   "source": [
    "y_test, y_pred = generate_confusion_matrix(\"ASSIN 1 (PT-PT)\", \"RoBERTa\")\n",
    "matthews_corrcoef(y_test, y_pred) "
   ]
  },
  {
   "cell_type": "code",
   "execution_count": 188,
   "metadata": {},
   "outputs": [
    {
     "data": {
      "text/plain": [
       "0.44127159553853895"
      ]
     },
     "execution_count": 188,
     "metadata": {},
     "output_type": "execute_result"
    }
   ],
   "source": [
    "y_test, y_pred = generate_confusion_matrix(\"ASSIN 1 (PT-PT)\", \"Ensemble ( stacking, 5-fold )\")\n",
    "matthews_corrcoef(y_test, y_pred) "
   ]
  },
  {
   "cell_type": "code",
   "execution_count": 189,
   "metadata": {},
   "outputs": [
    {
     "data": {
      "text/plain": [
       "0.5341730551087349"
      ]
     },
     "execution_count": 189,
     "metadata": {},
     "output_type": "execute_result"
    }
   ],
   "source": [
    "y_test, y_pred = generate_confusion_matrix(\"ASSIN 1 (PT-PT)\", \"Ensemble ( averaging )\")\n",
    "matthews_corrcoef(y_test, y_pred) "
   ]
  },
  {
   "cell_type": "code",
   "execution_count": 190,
   "metadata": {},
   "outputs": [
    {
     "data": {
      "text/plain": [
       "0.5132934398999935"
      ]
     },
     "execution_count": 190,
     "metadata": {},
     "output_type": "execute_result"
    }
   ],
   "source": [
    "y_test, y_pred = generate_confusion_matrix(\"ASSIN 1 (PT-BR)\", \"BERT-multilingual\")\n",
    "matthews_corrcoef(y_test, y_pred) "
   ]
  },
  {
   "cell_type": "code",
   "execution_count": 191,
   "metadata": {},
   "outputs": [
    {
     "data": {
      "text/plain": [
       "0.4728002024365028"
      ]
     },
     "execution_count": 191,
     "metadata": {},
     "output_type": "execute_result"
    }
   ],
   "source": [
    "y_test, y_pred = generate_confusion_matrix(\"ASSIN 1 (PT-BR)\", \"RoBERTa\")\n",
    "matthews_corrcoef(y_test, y_pred) "
   ]
  },
  {
   "cell_type": "code",
   "execution_count": 192,
   "metadata": {},
   "outputs": [
    {
     "data": {
      "text/plain": [
       "0.42635840877292863"
      ]
     },
     "execution_count": 192,
     "metadata": {},
     "output_type": "execute_result"
    }
   ],
   "source": [
    "y_test, y_pred = generate_confusion_matrix(\"ASSIN 1 (PT-BR)\", \"Ensemble ( stacking, 5-fold )\")\n",
    "matthews_corrcoef(y_test, y_pred) "
   ]
  },
  {
   "cell_type": "code",
   "execution_count": 193,
   "metadata": {},
   "outputs": [
    {
     "data": {
      "text/plain": [
       "0.5156201427699509"
      ]
     },
     "execution_count": 193,
     "metadata": {},
     "output_type": "execute_result"
    }
   ],
   "source": [
    "y_test, y_pred = generate_confusion_matrix(\"ASSIN 1 (PT-BR)\", \"Ensemble ( averaging )\")\n",
    "matthews_corrcoef(y_test, y_pred) "
   ]
  },
  {
   "cell_type": "code",
   "execution_count": null,
   "metadata": {},
   "outputs": [],
   "source": []
  }
 ],
 "metadata": {
  "kernelspec": {
   "display_name": "Python 3",
   "language": "python",
   "name": "python3"
  },
  "language_info": {
   "codemirror_mode": {
    "name": "ipython",
    "version": 3
   },
   "file_extension": ".py",
   "mimetype": "text/x-python",
   "name": "python",
   "nbconvert_exporter": "python",
   "pygments_lexer": "ipython3",
   "version": "3.7.3"
  }
 },
 "nbformat": 4,
 "nbformat_minor": 2
}
