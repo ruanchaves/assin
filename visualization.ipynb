{
 "cells": [
  {
   "cell_type": "code",
   "execution_count": 194,
   "metadata": {},
   "outputs": [],
   "source": [
    "%matplotlib inline\n",
    "import seaborn as sns\n",
    "import numpy as np\n",
    "import pandas as pd\n",
    "import xml.etree.ElementTree as ET"
   ]
  },
  {
   "cell_type": "code",
   "execution_count": 248,
   "metadata": {},
   "outputs": [],
   "source": [
    "def extract_scores(f, task=None):\n",
    "    entailment_dict = {\n",
    "        'None' : 0,\n",
    "        'Entailment': 1,\n",
    "        'Paraphrase': 2\n",
    "    }\n",
    "    f_tree = ET.parse(f)\n",
    "    f_root = f_tree.getroot()\n",
    "    f_list = []\n",
    "    for pair in f_root.iter('pair'):\n",
    "        try:\n",
    "            found_score = float(pair.get(task))\n",
    "        except:\n",
    "            found_score = float(entailment_dict[pair.get(task)])\n",
    "        f_list.append(found_score)\n",
    "    return f_list\n",
    "\n",
    "def generate_scores_df(f1=None, f2=None, f1_label='f1_label', f2_label='f2_label', task=None):\n",
    "    f1_list = np.array(extract_scores(f1, task))\n",
    "    f2_list = np.array(extract_scores(f2, task))\n",
    "    f2_list = f1_list - f2_list\n",
    "    f2_list = np.array([ x**2 for x in f2_list ])\n",
    "    f1_list = np.round(f1_list)\n",
    "    df = pd.DataFrame({f1_label: f1_list, f2_label: f2_list})\n",
    "    df = df.groupby(f1_label).mean().reset_index().sort_values(f1_label)\n",
    "    df = df[[f2_label]]\n",
    "#     df = df.sort_values(by=[f1_label, f2_label], ascending=[True, False])\n",
    "#     df = df.reset_index()\n",
    "#     df['idx'] = df.index\n",
    "#     df = pd.melt(df, id_vars=['idx'], value_vars=[f1_label, f2_label])\n",
    "    return df\n",
    "    \n",
    "def get_dataplot(dataplot, value_rename, idx_rename, variable_rename, num_samples=500):\n",
    "#     dataplot = dataplot.sample(num_samples)\n",
    "    dataplot = dataplot.rename(columns={\n",
    "        \"value\" : value_rename,\n",
    "        \"idx\": idx_rename,\n",
    "        \"variable\": variable_rename\n",
    "    })\n",
    "    return dataplot"
   ]
  },
  {
   "cell_type": "code",
   "execution_count": 249,
   "metadata": {},
   "outputs": [
    {
     "data": {
      "text/html": [
       "<div>\n",
       "<style scoped>\n",
       "    .dataframe tbody tr th:only-of-type {\n",
       "        vertical-align: middle;\n",
       "    }\n",
       "\n",
       "    .dataframe tbody tr th {\n",
       "        vertical-align: top;\n",
       "    }\n",
       "\n",
       "    .dataframe thead th {\n",
       "        text-align: right;\n",
       "    }\n",
       "</style>\n",
       "<table border=\"1\" class=\"dataframe\">\n",
       "  <thead>\n",
       "    <tr style=\"text-align: right;\">\n",
       "      <th></th>\n",
       "      <th>Average absolute error</th>\n",
       "      <th>dataset</th>\n",
       "      <th>score</th>\n",
       "      <th>model</th>\n",
       "    </tr>\n",
       "  </thead>\n",
       "  <tbody>\n",
       "    <tr>\n",
       "      <th>0</th>\n",
       "      <td>10.909697</td>\n",
       "      <td>ASSIN 1 (PT-PT)</td>\n",
       "      <td>1</td>\n",
       "      <td>RoBERTa</td>\n",
       "    </tr>\n",
       "    <tr>\n",
       "      <th>1</th>\n",
       "      <td>5.876683</td>\n",
       "      <td>ASSIN 1 (PT-PT)</td>\n",
       "      <td>2</td>\n",
       "      <td>RoBERTa</td>\n",
       "    </tr>\n",
       "    <tr>\n",
       "      <th>2</th>\n",
       "      <td>2.033864</td>\n",
       "      <td>ASSIN 1 (PT-PT)</td>\n",
       "      <td>3</td>\n",
       "      <td>RoBERTa</td>\n",
       "    </tr>\n",
       "    <tr>\n",
       "      <th>3</th>\n",
       "      <td>0.308391</td>\n",
       "      <td>ASSIN 1 (PT-PT)</td>\n",
       "      <td>4</td>\n",
       "      <td>RoBERTa</td>\n",
       "    </tr>\n",
       "    <tr>\n",
       "      <th>4</th>\n",
       "      <td>0.174404</td>\n",
       "      <td>ASSIN 1 (PT-PT)</td>\n",
       "      <td>5</td>\n",
       "      <td>RoBERTa</td>\n",
       "    </tr>\n",
       "    <tr>\n",
       "      <th>0</th>\n",
       "      <td>12.632929</td>\n",
       "      <td>ASSIN 1 (PT-BR)</td>\n",
       "      <td>1</td>\n",
       "      <td>RoBERTa</td>\n",
       "    </tr>\n",
       "    <tr>\n",
       "      <th>1</th>\n",
       "      <td>6.194206</td>\n",
       "      <td>ASSIN 1 (PT-BR)</td>\n",
       "      <td>2</td>\n",
       "      <td>RoBERTa</td>\n",
       "    </tr>\n",
       "    <tr>\n",
       "      <th>2</th>\n",
       "      <td>2.937050</td>\n",
       "      <td>ASSIN 1 (PT-BR)</td>\n",
       "      <td>3</td>\n",
       "      <td>RoBERTa</td>\n",
       "    </tr>\n",
       "    <tr>\n",
       "      <th>3</th>\n",
       "      <td>0.724028</td>\n",
       "      <td>ASSIN 1 (PT-BR)</td>\n",
       "      <td>4</td>\n",
       "      <td>RoBERTa</td>\n",
       "    </tr>\n",
       "    <tr>\n",
       "      <th>4</th>\n",
       "      <td>0.064349</td>\n",
       "      <td>ASSIN 1 (PT-BR)</td>\n",
       "      <td>5</td>\n",
       "      <td>RoBERTa</td>\n",
       "    </tr>\n",
       "    <tr>\n",
       "      <th>0</th>\n",
       "      <td>9.952024</td>\n",
       "      <td>ASSIN 2</td>\n",
       "      <td>1</td>\n",
       "      <td>RoBERTa</td>\n",
       "    </tr>\n",
       "    <tr>\n",
       "      <th>1</th>\n",
       "      <td>4.991293</td>\n",
       "      <td>ASSIN 2</td>\n",
       "      <td>2</td>\n",
       "      <td>RoBERTa</td>\n",
       "    </tr>\n",
       "    <tr>\n",
       "      <th>2</th>\n",
       "      <td>2.177242</td>\n",
       "      <td>ASSIN 2</td>\n",
       "      <td>3</td>\n",
       "      <td>RoBERTa</td>\n",
       "    </tr>\n",
       "    <tr>\n",
       "      <th>3</th>\n",
       "      <td>0.672338</td>\n",
       "      <td>ASSIN 2</td>\n",
       "      <td>4</td>\n",
       "      <td>RoBERTa</td>\n",
       "    </tr>\n",
       "    <tr>\n",
       "      <th>4</th>\n",
       "      <td>0.025624</td>\n",
       "      <td>ASSIN 2</td>\n",
       "      <td>5</td>\n",
       "      <td>RoBERTa</td>\n",
       "    </tr>\n",
       "    <tr>\n",
       "      <th>0</th>\n",
       "      <td>6.907404</td>\n",
       "      <td>ASSIN 1 (PT-PT)</td>\n",
       "      <td>1</td>\n",
       "      <td>BERT-multilingual</td>\n",
       "    </tr>\n",
       "    <tr>\n",
       "      <th>1</th>\n",
       "      <td>3.459370</td>\n",
       "      <td>ASSIN 1 (PT-PT)</td>\n",
       "      <td>2</td>\n",
       "      <td>BERT-multilingual</td>\n",
       "    </tr>\n",
       "    <tr>\n",
       "      <th>2</th>\n",
       "      <td>1.129345</td>\n",
       "      <td>ASSIN 1 (PT-PT)</td>\n",
       "      <td>3</td>\n",
       "      <td>BERT-multilingual</td>\n",
       "    </tr>\n",
       "    <tr>\n",
       "      <th>3</th>\n",
       "      <td>0.167825</td>\n",
       "      <td>ASSIN 1 (PT-PT)</td>\n",
       "      <td>4</td>\n",
       "      <td>BERT-multilingual</td>\n",
       "    </tr>\n",
       "    <tr>\n",
       "      <th>4</th>\n",
       "      <td>0.283227</td>\n",
       "      <td>ASSIN 1 (PT-PT)</td>\n",
       "      <td>5</td>\n",
       "      <td>BERT-multilingual</td>\n",
       "    </tr>\n",
       "    <tr>\n",
       "      <th>0</th>\n",
       "      <td>8.330867</td>\n",
       "      <td>ASSIN 1 (PT-BR)</td>\n",
       "      <td>1</td>\n",
       "      <td>BERT-multilingual</td>\n",
       "    </tr>\n",
       "    <tr>\n",
       "      <th>1</th>\n",
       "      <td>4.018704</td>\n",
       "      <td>ASSIN 1 (PT-BR)</td>\n",
       "      <td>2</td>\n",
       "      <td>BERT-multilingual</td>\n",
       "    </tr>\n",
       "    <tr>\n",
       "      <th>2</th>\n",
       "      <td>1.632923</td>\n",
       "      <td>ASSIN 1 (PT-BR)</td>\n",
       "      <td>3</td>\n",
       "      <td>BERT-multilingual</td>\n",
       "    </tr>\n",
       "    <tr>\n",
       "      <th>3</th>\n",
       "      <td>0.330470</td>\n",
       "      <td>ASSIN 1 (PT-BR)</td>\n",
       "      <td>4</td>\n",
       "      <td>BERT-multilingual</td>\n",
       "    </tr>\n",
       "    <tr>\n",
       "      <th>4</th>\n",
       "      <td>0.146850</td>\n",
       "      <td>ASSIN 1 (PT-BR)</td>\n",
       "      <td>5</td>\n",
       "      <td>BERT-multilingual</td>\n",
       "    </tr>\n",
       "    <tr>\n",
       "      <th>0</th>\n",
       "      <td>8.773182</td>\n",
       "      <td>ASSIN 2</td>\n",
       "      <td>1</td>\n",
       "      <td>BERT-multilingual</td>\n",
       "    </tr>\n",
       "    <tr>\n",
       "      <th>1</th>\n",
       "      <td>4.314068</td>\n",
       "      <td>ASSIN 2</td>\n",
       "      <td>2</td>\n",
       "      <td>BERT-multilingual</td>\n",
       "    </tr>\n",
       "    <tr>\n",
       "      <th>2</th>\n",
       "      <td>1.598185</td>\n",
       "      <td>ASSIN 2</td>\n",
       "      <td>3</td>\n",
       "      <td>BERT-multilingual</td>\n",
       "    </tr>\n",
       "    <tr>\n",
       "      <th>3</th>\n",
       "      <td>0.416740</td>\n",
       "      <td>ASSIN 2</td>\n",
       "      <td>4</td>\n",
       "      <td>BERT-multilingual</td>\n",
       "    </tr>\n",
       "    <tr>\n",
       "      <th>4</th>\n",
       "      <td>0.030240</td>\n",
       "      <td>ASSIN 2</td>\n",
       "      <td>5</td>\n",
       "      <td>BERT-multilingual</td>\n",
       "    </tr>\n",
       "    <tr>\n",
       "      <th>0</th>\n",
       "      <td>4.548327</td>\n",
       "      <td>ASSIN 1 (PT-PT)</td>\n",
       "      <td>1</td>\n",
       "      <td>Ensemble ( stacking, 5-fold )</td>\n",
       "    </tr>\n",
       "    <tr>\n",
       "      <th>1</th>\n",
       "      <td>2.156652</td>\n",
       "      <td>ASSIN 1 (PT-PT)</td>\n",
       "      <td>2</td>\n",
       "      <td>Ensemble ( stacking, 5-fold )</td>\n",
       "    </tr>\n",
       "    <tr>\n",
       "      <th>2</th>\n",
       "      <td>0.861034</td>\n",
       "      <td>ASSIN 1 (PT-PT)</td>\n",
       "      <td>3</td>\n",
       "      <td>Ensemble ( stacking, 5-fold )</td>\n",
       "    </tr>\n",
       "    <tr>\n",
       "      <th>3</th>\n",
       "      <td>0.248775</td>\n",
       "      <td>ASSIN 1 (PT-PT)</td>\n",
       "      <td>4</td>\n",
       "      <td>Ensemble ( stacking, 5-fold )</td>\n",
       "    </tr>\n",
       "    <tr>\n",
       "      <th>4</th>\n",
       "      <td>0.369529</td>\n",
       "      <td>ASSIN 1 (PT-PT)</td>\n",
       "      <td>5</td>\n",
       "      <td>Ensemble ( stacking, 5-fold )</td>\n",
       "    </tr>\n",
       "    <tr>\n",
       "      <th>0</th>\n",
       "      <td>4.981972</td>\n",
       "      <td>ASSIN 1 (PT-BR)</td>\n",
       "      <td>1</td>\n",
       "      <td>Ensemble ( stacking, 5-fold )</td>\n",
       "    </tr>\n",
       "    <tr>\n",
       "      <th>1</th>\n",
       "      <td>2.657034</td>\n",
       "      <td>ASSIN 1 (PT-BR)</td>\n",
       "      <td>2</td>\n",
       "      <td>Ensemble ( stacking, 5-fold )</td>\n",
       "    </tr>\n",
       "    <tr>\n",
       "      <th>2</th>\n",
       "      <td>0.999332</td>\n",
       "      <td>ASSIN 1 (PT-BR)</td>\n",
       "      <td>3</td>\n",
       "      <td>Ensemble ( stacking, 5-fold )</td>\n",
       "    </tr>\n",
       "    <tr>\n",
       "      <th>3</th>\n",
       "      <td>0.248256</td>\n",
       "      <td>ASSIN 1 (PT-BR)</td>\n",
       "      <td>4</td>\n",
       "      <td>Ensemble ( stacking, 5-fold )</td>\n",
       "    </tr>\n",
       "    <tr>\n",
       "      <th>4</th>\n",
       "      <td>0.375841</td>\n",
       "      <td>ASSIN 1 (PT-BR)</td>\n",
       "      <td>5</td>\n",
       "      <td>Ensemble ( stacking, 5-fold )</td>\n",
       "    </tr>\n",
       "    <tr>\n",
       "      <th>0</th>\n",
       "      <td>9.079303</td>\n",
       "      <td>ASSIN 2</td>\n",
       "      <td>1</td>\n",
       "      <td>Ensemble ( stacking, 5-fold )</td>\n",
       "    </tr>\n",
       "    <tr>\n",
       "      <th>1</th>\n",
       "      <td>4.411754</td>\n",
       "      <td>ASSIN 2</td>\n",
       "      <td>2</td>\n",
       "      <td>Ensemble ( stacking, 5-fold )</td>\n",
       "    </tr>\n",
       "    <tr>\n",
       "      <th>2</th>\n",
       "      <td>1.512965</td>\n",
       "      <td>ASSIN 2</td>\n",
       "      <td>3</td>\n",
       "      <td>Ensemble ( stacking, 5-fold )</td>\n",
       "    </tr>\n",
       "    <tr>\n",
       "      <th>3</th>\n",
       "      <td>0.347414</td>\n",
       "      <td>ASSIN 2</td>\n",
       "      <td>4</td>\n",
       "      <td>Ensemble ( stacking, 5-fold )</td>\n",
       "    </tr>\n",
       "    <tr>\n",
       "      <th>4</th>\n",
       "      <td>0.054075</td>\n",
       "      <td>ASSIN 2</td>\n",
       "      <td>5</td>\n",
       "      <td>Ensemble ( stacking, 5-fold )</td>\n",
       "    </tr>\n",
       "    <tr>\n",
       "      <th>0</th>\n",
       "      <td>8.780042</td>\n",
       "      <td>ASSIN 1 (PT-PT)</td>\n",
       "      <td>1</td>\n",
       "      <td>Ensemble ( averaging )</td>\n",
       "    </tr>\n",
       "    <tr>\n",
       "      <th>1</th>\n",
       "      <td>4.569723</td>\n",
       "      <td>ASSIN 1 (PT-PT)</td>\n",
       "      <td>2</td>\n",
       "      <td>Ensemble ( averaging )</td>\n",
       "    </tr>\n",
       "    <tr>\n",
       "      <th>2</th>\n",
       "      <td>1.532580</td>\n",
       "      <td>ASSIN 1 (PT-PT)</td>\n",
       "      <td>3</td>\n",
       "      <td>Ensemble ( averaging )</td>\n",
       "    </tr>\n",
       "    <tr>\n",
       "      <th>3</th>\n",
       "      <td>0.213651</td>\n",
       "      <td>ASSIN 1 (PT-PT)</td>\n",
       "      <td>4</td>\n",
       "      <td>Ensemble ( averaging )</td>\n",
       "    </tr>\n",
       "    <tr>\n",
       "      <th>4</th>\n",
       "      <td>0.214348</td>\n",
       "      <td>ASSIN 1 (PT-PT)</td>\n",
       "      <td>5</td>\n",
       "      <td>Ensemble ( averaging )</td>\n",
       "    </tr>\n",
       "    <tr>\n",
       "      <th>0</th>\n",
       "      <td>10.357174</td>\n",
       "      <td>ASSIN 1 (PT-BR)</td>\n",
       "      <td>1</td>\n",
       "      <td>Ensemble ( averaging )</td>\n",
       "    </tr>\n",
       "    <tr>\n",
       "      <th>1</th>\n",
       "      <td>5.035915</td>\n",
       "      <td>ASSIN 1 (PT-BR)</td>\n",
       "      <td>2</td>\n",
       "      <td>Ensemble ( averaging )</td>\n",
       "    </tr>\n",
       "    <tr>\n",
       "      <th>2</th>\n",
       "      <td>2.225965</td>\n",
       "      <td>ASSIN 1 (PT-BR)</td>\n",
       "      <td>3</td>\n",
       "      <td>Ensemble ( averaging )</td>\n",
       "    </tr>\n",
       "    <tr>\n",
       "      <th>3</th>\n",
       "      <td>0.491161</td>\n",
       "      <td>ASSIN 1 (PT-BR)</td>\n",
       "      <td>4</td>\n",
       "      <td>Ensemble ( averaging )</td>\n",
       "    </tr>\n",
       "    <tr>\n",
       "      <th>4</th>\n",
       "      <td>0.084493</td>\n",
       "      <td>ASSIN 1 (PT-BR)</td>\n",
       "      <td>5</td>\n",
       "      <td>Ensemble ( averaging )</td>\n",
       "    </tr>\n",
       "    <tr>\n",
       "      <th>0</th>\n",
       "      <td>9.345122</td>\n",
       "      <td>ASSIN 2</td>\n",
       "      <td>1</td>\n",
       "      <td>Ensemble ( averaging )</td>\n",
       "    </tr>\n",
       "    <tr>\n",
       "      <th>1</th>\n",
       "      <td>4.630961</td>\n",
       "      <td>ASSIN 2</td>\n",
       "      <td>2</td>\n",
       "      <td>Ensemble ( averaging )</td>\n",
       "    </tr>\n",
       "    <tr>\n",
       "      <th>2</th>\n",
       "      <td>1.858004</td>\n",
       "      <td>ASSIN 2</td>\n",
       "      <td>3</td>\n",
       "      <td>Ensemble ( averaging )</td>\n",
       "    </tr>\n",
       "    <tr>\n",
       "      <th>3</th>\n",
       "      <td>0.524902</td>\n",
       "      <td>ASSIN 2</td>\n",
       "      <td>4</td>\n",
       "      <td>Ensemble ( averaging )</td>\n",
       "    </tr>\n",
       "    <tr>\n",
       "      <th>4</th>\n",
       "      <td>0.022092</td>\n",
       "      <td>ASSIN 2</td>\n",
       "      <td>5</td>\n",
       "      <td>Ensemble ( averaging )</td>\n",
       "    </tr>\n",
       "  </tbody>\n",
       "</table>\n",
       "</div>"
      ],
      "text/plain": [
       "   Average absolute error          dataset  score  \\\n",
       "0               10.909697  ASSIN 1 (PT-PT)      1   \n",
       "1                5.876683  ASSIN 1 (PT-PT)      2   \n",
       "2                2.033864  ASSIN 1 (PT-PT)      3   \n",
       "3                0.308391  ASSIN 1 (PT-PT)      4   \n",
       "4                0.174404  ASSIN 1 (PT-PT)      5   \n",
       "0               12.632929  ASSIN 1 (PT-BR)      1   \n",
       "1                6.194206  ASSIN 1 (PT-BR)      2   \n",
       "2                2.937050  ASSIN 1 (PT-BR)      3   \n",
       "3                0.724028  ASSIN 1 (PT-BR)      4   \n",
       "4                0.064349  ASSIN 1 (PT-BR)      5   \n",
       "0                9.952024          ASSIN 2      1   \n",
       "1                4.991293          ASSIN 2      2   \n",
       "2                2.177242          ASSIN 2      3   \n",
       "3                0.672338          ASSIN 2      4   \n",
       "4                0.025624          ASSIN 2      5   \n",
       "0                6.907404  ASSIN 1 (PT-PT)      1   \n",
       "1                3.459370  ASSIN 1 (PT-PT)      2   \n",
       "2                1.129345  ASSIN 1 (PT-PT)      3   \n",
       "3                0.167825  ASSIN 1 (PT-PT)      4   \n",
       "4                0.283227  ASSIN 1 (PT-PT)      5   \n",
       "0                8.330867  ASSIN 1 (PT-BR)      1   \n",
       "1                4.018704  ASSIN 1 (PT-BR)      2   \n",
       "2                1.632923  ASSIN 1 (PT-BR)      3   \n",
       "3                0.330470  ASSIN 1 (PT-BR)      4   \n",
       "4                0.146850  ASSIN 1 (PT-BR)      5   \n",
       "0                8.773182          ASSIN 2      1   \n",
       "1                4.314068          ASSIN 2      2   \n",
       "2                1.598185          ASSIN 2      3   \n",
       "3                0.416740          ASSIN 2      4   \n",
       "4                0.030240          ASSIN 2      5   \n",
       "0                4.548327  ASSIN 1 (PT-PT)      1   \n",
       "1                2.156652  ASSIN 1 (PT-PT)      2   \n",
       "2                0.861034  ASSIN 1 (PT-PT)      3   \n",
       "3                0.248775  ASSIN 1 (PT-PT)      4   \n",
       "4                0.369529  ASSIN 1 (PT-PT)      5   \n",
       "0                4.981972  ASSIN 1 (PT-BR)      1   \n",
       "1                2.657034  ASSIN 1 (PT-BR)      2   \n",
       "2                0.999332  ASSIN 1 (PT-BR)      3   \n",
       "3                0.248256  ASSIN 1 (PT-BR)      4   \n",
       "4                0.375841  ASSIN 1 (PT-BR)      5   \n",
       "0                9.079303          ASSIN 2      1   \n",
       "1                4.411754          ASSIN 2      2   \n",
       "2                1.512965          ASSIN 2      3   \n",
       "3                0.347414          ASSIN 2      4   \n",
       "4                0.054075          ASSIN 2      5   \n",
       "0                8.780042  ASSIN 1 (PT-PT)      1   \n",
       "1                4.569723  ASSIN 1 (PT-PT)      2   \n",
       "2                1.532580  ASSIN 1 (PT-PT)      3   \n",
       "3                0.213651  ASSIN 1 (PT-PT)      4   \n",
       "4                0.214348  ASSIN 1 (PT-PT)      5   \n",
       "0               10.357174  ASSIN 1 (PT-BR)      1   \n",
       "1                5.035915  ASSIN 1 (PT-BR)      2   \n",
       "2                2.225965  ASSIN 1 (PT-BR)      3   \n",
       "3                0.491161  ASSIN 1 (PT-BR)      4   \n",
       "4                0.084493  ASSIN 1 (PT-BR)      5   \n",
       "0                9.345122          ASSIN 2      1   \n",
       "1                4.630961          ASSIN 2      2   \n",
       "2                1.858004          ASSIN 2      3   \n",
       "3                0.524902          ASSIN 2      4   \n",
       "4                0.022092          ASSIN 2      5   \n",
       "\n",
       "                           model  \n",
       "0                        RoBERTa  \n",
       "1                        RoBERTa  \n",
       "2                        RoBERTa  \n",
       "3                        RoBERTa  \n",
       "4                        RoBERTa  \n",
       "0                        RoBERTa  \n",
       "1                        RoBERTa  \n",
       "2                        RoBERTa  \n",
       "3                        RoBERTa  \n",
       "4                        RoBERTa  \n",
       "0                        RoBERTa  \n",
       "1                        RoBERTa  \n",
       "2                        RoBERTa  \n",
       "3                        RoBERTa  \n",
       "4                        RoBERTa  \n",
       "0              BERT-multilingual  \n",
       "1              BERT-multilingual  \n",
       "2              BERT-multilingual  \n",
       "3              BERT-multilingual  \n",
       "4              BERT-multilingual  \n",
       "0              BERT-multilingual  \n",
       "1              BERT-multilingual  \n",
       "2              BERT-multilingual  \n",
       "3              BERT-multilingual  \n",
       "4              BERT-multilingual  \n",
       "0              BERT-multilingual  \n",
       "1              BERT-multilingual  \n",
       "2              BERT-multilingual  \n",
       "3              BERT-multilingual  \n",
       "4              BERT-multilingual  \n",
       "0  Ensemble ( stacking, 5-fold )  \n",
       "1  Ensemble ( stacking, 5-fold )  \n",
       "2  Ensemble ( stacking, 5-fold )  \n",
       "3  Ensemble ( stacking, 5-fold )  \n",
       "4  Ensemble ( stacking, 5-fold )  \n",
       "0  Ensemble ( stacking, 5-fold )  \n",
       "1  Ensemble ( stacking, 5-fold )  \n",
       "2  Ensemble ( stacking, 5-fold )  \n",
       "3  Ensemble ( stacking, 5-fold )  \n",
       "4  Ensemble ( stacking, 5-fold )  \n",
       "0  Ensemble ( stacking, 5-fold )  \n",
       "1  Ensemble ( stacking, 5-fold )  \n",
       "2  Ensemble ( stacking, 5-fold )  \n",
       "3  Ensemble ( stacking, 5-fold )  \n",
       "4  Ensemble ( stacking, 5-fold )  \n",
       "0         Ensemble ( averaging )  \n",
       "1         Ensemble ( averaging )  \n",
       "2         Ensemble ( averaging )  \n",
       "3         Ensemble ( averaging )  \n",
       "4         Ensemble ( averaging )  \n",
       "0         Ensemble ( averaging )  \n",
       "1         Ensemble ( averaging )  \n",
       "2         Ensemble ( averaging )  \n",
       "3         Ensemble ( averaging )  \n",
       "4         Ensemble ( averaging )  \n",
       "0         Ensemble ( averaging )  \n",
       "1         Ensemble ( averaging )  \n",
       "2         Ensemble ( averaging )  \n",
       "3         Ensemble ( averaging )  \n",
       "4         Ensemble ( averaging )  "
      ]
     },
     "execution_count": 249,
     "metadata": {},
     "output_type": "execute_result"
    }
   ],
   "source": [
    "def generate_grid(model_file, task_name, plot_title):\n",
    "    def generate_section(test_file, submission_file, dataset_name, plot_title):\n",
    "        dataplot = generate_scores_df(test_file, \n",
    "                           submission_file, \n",
    "                           task=task_name,\n",
    "                           f1_label=\"Gold scores\",\n",
    "                           f2_label=\"Average absolute error\")\n",
    "\n",
    "        value_rename = \"Gold scores vs. absolute error\"\n",
    "        idx_rename = \"sentence pair\"\n",
    "        variable_rename = \"model\"\n",
    "\n",
    "        dataplot = get_dataplot(dataplot, value_rename, idx_rename, variable_rename)\n",
    "\n",
    "        dataplot['dataset'] = dataset_name\n",
    "        dataplot['score'] = dataplot.index + 1\n",
    "        dataplot['model'] = plot_title\n",
    "        return dataplot\n",
    "\n",
    "    test_file = './sources/assin-ptpt-test.xml'\n",
    "    submission_file = './generated_submissions/assin1ptpt/{0}.xml'.format(model_file)\n",
    "    task_name = 'similarity'\n",
    "    dataset_name = \"ASSIN 1 (PT-PT)\"\n",
    "    dataplot = generate_section(test_file, submission_file, dataset_name, plot_title)\n",
    "\n",
    "\n",
    "    test_file = './sources/assin-ptbr-test.xml'\n",
    "    submission_file = './generated_submissions/assin1ptbr/{0}.xml'.format(model_file)\n",
    "    task_name = 'similarity'\n",
    "    dataset_name = \"ASSIN 1 (PT-BR)\"\n",
    "    df = generate_section(test_file, submission_file, dataset_name, plot_title)\n",
    "    dataplot = dataplot.append(df)\n",
    "\n",
    "    test_file = './sources/assin2-test.xml'\n",
    "    submission_file = './generated_submissions/assin2-trainonly/{0}.xml'.format(model_file)\n",
    "    task_name = 'similarity'\n",
    "    dataset_name = \"ASSIN 2\"\n",
    "    df = generate_section(test_file, submission_file, dataset_name, plot_title)\n",
    "    dataplot = dataplot.append(df)\n",
    "\n",
    "\n",
    "    return dataplot\n",
    "#     g = sns.FacetGrid(dataplot, col=\"dataset\", legend_out=True)\n",
    "#     g.fig.subplots_adjust(top=0.5)\n",
    "#     g.fig.suptitle(plot_title, fontsize=16)\n",
    "#     return g.map(sns.barplot, \"score\", \"Average absolute error\")\n",
    "\n",
    "\n",
    "\n",
    "model_file = \"submission-roberta\"\n",
    "task_name = 'similarity'\n",
    "plot_title = \"RoBERTa\"\n",
    "dataplot = generate_grid(model_file, task_name, plot_title)\n",
    "\n",
    "model_file = \"submission-bert\"\n",
    "task_name = 'similarity'\n",
    "plot_title = \"BERT-multilingual\"\n",
    "df = generate_grid(model_file, task_name, plot_title)\n",
    "dataplot = dataplot.append(df)\n",
    "\n",
    "model_file = \"final_submission_5folds\"\n",
    "task_name = 'similarity'\n",
    "plot_title = \"Ensemble ( stacking, 5-fold )\"\n",
    "df = generate_grid(model_file, task_name, plot_title)\n",
    "dataplot = dataplot.append(df)\n",
    "\n",
    "model_file = \"submission-average\"\n",
    "task_name = 'similarity'\n",
    "plot_title = \"Ensemble ( averaging )\"\n",
    "df = generate_grid(model_file, task_name, plot_title)\n",
    "dataplot = dataplot.append(df)\n",
    "\n",
    "dataplot"
   ]
  },
  {
   "cell_type": "code",
   "execution_count": 251,
   "metadata": {},
   "outputs": [
    {
     "data": {
      "text/plain": [
       "Text(0.5, 0.98, 'Semantic similarity: Mean squared error on each score range')"
      ]
     },
     "execution_count": 251,
     "metadata": {},
     "output_type": "execute_result"
    },
    {
     "data": {
      "text/plain": [
       "<Figure size 1440x2160 with 0 Axes>"
      ]
     },
     "metadata": {},
     "output_type": "display_data"
    },
    {
     "data": {
      "image/png": "[encoded data removed]",
      "text/plain": [
       "<Figure size 837.87x216 with 3 Axes>"
      ]
     },
     "metadata": {},
     "output_type": "display_data"
    }
   ],
   "source": [
    "\n",
    "# figure size in inches\n",
    "plt.figure(figsize=(20, 30))\n",
    "\n",
    "sns.set(font_scale=0.95)\n",
    "# g = sns.FacetGrid(dataplot, row=\"dataset\", col=\"model\", margin_titles=True, palette=\"gray\")\n",
    "# g.map(sns.lineplot, x=\"score\", y=\"Average absolute error\", hue=\"model\");\n",
    "dataplot = dataplot.rename(columns={\n",
    "    \"Average absolute error\" : \"Mean squared error\"\n",
    "})\n",
    "g = sns.FacetGrid(dataplot, col=\"dataset\", hue=\"model\", margin_titles=True, legend_out=True)\n",
    "g.map(sns.lineplot, \"score\", \"Mean squared error\")\n",
    "g.add_legend()\n",
    "g.fig.subplots_adjust(top=0.8)\n",
    "g.fig.suptitle('Semantic similarity: Mean squared error on each score range', fontsize=14)"
   ]
  },
  {
   "cell_type": "code",
   "execution_count": 233,
   "metadata": {},
   "outputs": [
    {
     "data": {
      "text/plain": [
       "<matplotlib.axes._subplots.AxesSubplot at 0x7fd6f863eeb8>"
      ]
     },
     "execution_count": 233,
     "metadata": {},
     "output_type": "execute_result"
    },
    {
     "data": {
      "image/png": "[encoded data removed]",
      "text/plain": [
       "<Figure size 432x288 with 1 Axes>"
      ]
     },
     "metadata": {},
     "output_type": "display_data"
    }
   ],
   "source": [
    "sns.distplot(extract_scores('./sources/assin2-test.xml', task=\"similarity\"))"
   ]
  },
  {
   "cell_type": "code",
   "execution_count": 236,
   "metadata": {},
   "outputs": [
    {
     "data": {
      "text/plain": [
       "<matplotlib.axes._subplots.AxesSubplot at 0x7fd6f8920ba8>"
      ]
     },
     "execution_count": 236,
     "metadata": {},
     "output_type": "execute_result"
    },
    {
     "data": {
      "image/png": "[encoded data removed]",
      "text/plain": [
       "<Figure size 432x288 with 1 Axes>"
      ]
     },
     "metadata": {},
     "output_type": "display_data"
    }
   ],
   "source": [
    "sns.distplot(extract_scores('./sources/assin-ptpt-test.xml', task=\"similarity\"))"
   ]
  },
  {
   "cell_type": "code",
   "execution_count": 147,
   "metadata": {},
   "outputs": [],
   "source": [
    "def generate_final_plot(selected_dataset_name, top_param=1):\n",
    "    dataplot_section = dataplot[dataplot['dataset']==selected_dataset_name]\n",
    "    # Draw a nested barplot to show survival for class and sex\n",
    "    g = sns.catplot(x=\"score\", y=\"Average absolute error\", hue=\"model\", data=dataplot_section,\n",
    "                    height=6, kind=\"bar\", palette=\"gray\")\n",
    "    g.despine(left=True)\n",
    "    g.fig.subplots_adjust(top=top_param)\n",
    "    g.fig.suptitle(selected_dataset_name, fontsize=16)"
   ]
  },
  {
   "cell_type": "code",
   "execution_count": 148,
   "metadata": {},
   "outputs": [
    {
     "data": {
      "image/png": "[encoded data removed]",
      "text/plain": [
       "<Figure size 630.35x432 with 1 Axes>"
      ]
     },
     "metadata": {},
     "output_type": "display_data"
    }
   ],
   "source": [
    "generate_final_plot(\"ASSIN 2\")"
   ]
  },
  {
   "cell_type": "code",
   "execution_count": 149,
   "metadata": {},
   "outputs": [
    {
     "data": {
      "image/png": "[encoded data removed]",
      "text/plain": [
       "<Figure size 630.35x432 with 1 Axes>"
      ]
     },
     "metadata": {},
     "output_type": "display_data"
    }
   ],
   "source": [
    "generate_final_plot(\"ASSIN 1 (PT-PT)\")"
   ]
  },
  {
   "cell_type": "code",
   "execution_count": 150,
   "metadata": {},
   "outputs": [
    {
     "data": {
      "image/png": "[encoded data removed]",
      "text/plain": [
       "<Figure size 630.35x432 with 1 Axes>"
      ]
     },
     "metadata": {},
     "output_type": "display_data"
    }
   ],
   "source": [
    "generate_final_plot(\"ASSIN 1 (PT-BR)\", top_param=0.95)"
   ]
  },
  {
   "cell_type": "code",
   "execution_count": 153,
   "metadata": {},
   "outputs": [
    {
     "data": {
      "text/html": [
       "<div>\n",
       "<style scoped>\n",
       "    .dataframe tbody tr th:only-of-type {\n",
       "        vertical-align: middle;\n",
       "    }\n",
       "\n",
       "    .dataframe tbody tr th {\n",
       "        vertical-align: top;\n",
       "    }\n",
       "\n",
       "    .dataframe thead th {\n",
       "        text-align: right;\n",
       "    }\n",
       "</style>\n",
       "<table border=\"1\" class=\"dataframe\">\n",
       "  <thead>\n",
       "    <tr style=\"text-align: right;\">\n",
       "      <th></th>\n",
       "      <th>Gold</th>\n",
       "      <th>Prediction</th>\n",
       "      <th>dataset</th>\n",
       "      <th>model</th>\n",
       "    </tr>\n",
       "  </thead>\n",
       "  <tbody>\n",
       "    <tr>\n",
       "      <th>0</th>\n",
       "      <td>Entailment</td>\n",
       "      <td>None</td>\n",
       "      <td>ASSIN 1 (PT-PT)</td>\n",
       "      <td>RoBERTa</td>\n",
       "    </tr>\n",
       "    <tr>\n",
       "      <th>1</th>\n",
       "      <td>Paraphrase</td>\n",
       "      <td>Entailment</td>\n",
       "      <td>ASSIN 1 (PT-PT)</td>\n",
       "      <td>RoBERTa</td>\n",
       "    </tr>\n",
       "    <tr>\n",
       "      <th>2</th>\n",
       "      <td>None</td>\n",
       "      <td>None</td>\n",
       "      <td>ASSIN 1 (PT-PT)</td>\n",
       "      <td>RoBERTa</td>\n",
       "    </tr>\n",
       "    <tr>\n",
       "      <th>3</th>\n",
       "      <td>None</td>\n",
       "      <td>None</td>\n",
       "      <td>ASSIN 1 (PT-PT)</td>\n",
       "      <td>RoBERTa</td>\n",
       "    </tr>\n",
       "    <tr>\n",
       "      <th>4</th>\n",
       "      <td>None</td>\n",
       "      <td>None</td>\n",
       "      <td>ASSIN 1 (PT-PT)</td>\n",
       "      <td>RoBERTa</td>\n",
       "    </tr>\n",
       "  </tbody>\n",
       "</table>\n",
       "</div>"
      ],
      "text/plain": [
       "         Gold  Prediction          dataset    model\n",
       "0  Entailment        None  ASSIN 1 (PT-PT)  RoBERTa\n",
       "1  Paraphrase  Entailment  ASSIN 1 (PT-PT)  RoBERTa\n",
       "2        None        None  ASSIN 1 (PT-PT)  RoBERTa\n",
       "3        None        None  ASSIN 1 (PT-PT)  RoBERTa\n",
       "4        None        None  ASSIN 1 (PT-PT)  RoBERTa"
      ]
     },
     "execution_count": 153,
     "metadata": {},
     "output_type": "execute_result"
    }
   ],
   "source": [
    "def extract_scores(f):\n",
    "    f_tree = ET.parse(f)\n",
    "    f_root = f_tree.getroot()\n",
    "    f_list = []\n",
    "    for pair in f_root.iter('pair'):\n",
    "        found_score = pair.get('entailment')\n",
    "        f_list.append(found_score)\n",
    "    return f_list\n",
    "\n",
    "def generate_scores_df(f1=None, f2=None, f1_label='f1_label', f2_label='f2_label'):\n",
    "    f1_list = np.array(extract_scores(f1))\n",
    "    f2_list = np.array(extract_scores(f2))\n",
    "    df = pd.DataFrame({f1_label: f1_list, f2_label: f2_list})\n",
    "    return df\n",
    "    \n",
    "def get_dataplot(dataplot, value_rename, idx_rename, variable_rename, num_samples=500):\n",
    "#     dataplot = dataplot.sample(num_samples)\n",
    "    dataplot = dataplot.rename(columns={\n",
    "        \"value\" : value_rename,\n",
    "        \"idx\": idx_rename,\n",
    "        \"variable\": variable_rename\n",
    "    })\n",
    "    return dataplot\n",
    "\n",
    "def generate_grid(model_file, task_name, plot_title):\n",
    "    def generate_section(test_file, submission_file, dataset_name, plot_title):\n",
    "        dataplot = generate_scores_df(test_file, \n",
    "                           submission_file,\n",
    "                           f1_label=\"Gold\",\n",
    "                           f2_label=\"Prediction\")\n",
    "\n",
    "        value_rename = \"Gold scores vs. absolute error\"\n",
    "        idx_rename = \"sentence pair\"\n",
    "        variable_rename = \"model\"\n",
    "\n",
    "        dataplot = get_dataplot(dataplot, value_rename, idx_rename, variable_rename)\n",
    "\n",
    "        dataplot['dataset'] = dataset_name\n",
    "        dataplot['model'] = plot_title\n",
    "        return dataplot\n",
    "\n",
    "    test_file = './sources/assin-ptpt-test.xml'\n",
    "    submission_file = './generated_submissions/assin1ptpt/{0}.xml'.format(model_file)\n",
    "    task_name = 'similarity'\n",
    "    dataset_name = \"ASSIN 1 (PT-PT)\"\n",
    "    dataplot = generate_section(test_file, submission_file, dataset_name, plot_title)\n",
    "\n",
    "\n",
    "    test_file = './sources/assin-ptbr-test.xml'\n",
    "    submission_file = './generated_submissions/assin1ptbr/{0}.xml'.format(model_file)\n",
    "    task_name = 'similarity'\n",
    "    dataset_name = \"ASSIN 1 (PT-BR)\"\n",
    "    df = generate_section(test_file, submission_file, dataset_name, plot_title)\n",
    "    dataplot = dataplot.append(df)\n",
    "\n",
    "    test_file = './sources/assin2-test.xml'\n",
    "    submission_file = './generated_submissions/assin2-trainonly/{0}.xml'.format(model_file)\n",
    "    task_name = 'similarity'\n",
    "    dataset_name = \"ASSIN 2\"\n",
    "    df = generate_section(test_file, submission_file, dataset_name, plot_title)\n",
    "    dataplot = dataplot.append(df)\n",
    "\n",
    "\n",
    "    return dataplot\n",
    "#     g = sns.FacetGrid(dataplot, col=\"dataset\", legend_out=True)\n",
    "#     g.fig.subplots_adjust(top=0.5)\n",
    "#     g.fig.suptitle(plot_title, fontsize=16)\n",
    "#     return g.map(sns.barplot, \"score\", \"Average absolute error\")\n",
    "\n",
    "\n",
    "\n",
    "model_file = \"submission-roberta\"\n",
    "task_name = 'similarity'\n",
    "plot_title = \"RoBERTa\"\n",
    "dataplot = generate_grid(model_file, task_name, plot_title)\n",
    "\n",
    "model_file = \"submission-bert\"\n",
    "task_name = 'similarity'\n",
    "plot_title = \"BERT-multilingual\"\n",
    "df = generate_grid(model_file, task_name, plot_title)\n",
    "dataplot = dataplot.append(df)\n",
    "\n",
    "model_file = \"final_submission_5folds\"\n",
    "task_name = 'similarity'\n",
    "plot_title = \"Ensemble ( stacking, 5-fold )\"\n",
    "df = generate_grid(model_file, task_name, plot_title)\n",
    "dataplot = dataplot.append(df)\n",
    "\n",
    "model_file = \"submission-average\"\n",
    "task_name = 'similarity'\n",
    "plot_title = \"Ensemble ( averaging )\"\n",
    "df = generate_grid(model_file, task_name, plot_title)\n",
    "dataplot = dataplot.append(df)\n",
    "\n",
    "dataplot.head()"
   ]
  },
  {
   "cell_type": "code",
   "execution_count": 175,
   "metadata": {},
   "outputs": [
    {
     "data": {
      "text/plain": [
       "0.6176862005394158"
      ]
     },
     "execution_count": 175,
     "metadata": {},
     "output_type": "execute_result"
    }
   ],
   "source": [
    "from sklearn.metrics import confusion_matrix\n",
    "from sklearn.metrics import matthews_corrcoef\n",
    "\n",
    "def generate_confusion_matrix(selected_dataset_name, model_name, top_param=1):\n",
    "    dataplot_section = dataplot[dataplot['dataset']==selected_dataset_name]\n",
    "    dataplot_section = dataplot_section[dataplot_section['model']==model_name]\n",
    "    y_true = dataplot_section['Gold'].values.tolist()\n",
    "    y_pred = dataplot_section['Prediction'].values.tolist()\n",
    "    return y_true, y_pred\n",
    "    \n",
    "y_test, y_pred = generate_confusion_matrix(\"ASSIN 2\", \"RoBERTa\")\n",
    "\n",
    "matthews_corrcoef(y_test, y_pred) "
   ]
  },
  {
   "cell_type": "code",
   "execution_count": 181,
   "metadata": {},
   "outputs": [
    {
     "data": {
      "text/html": [
       "<div>\n",
       "<style scoped>\n",
       "    .dataframe tbody tr th:only-of-type {\n",
       "        vertical-align: middle;\n",
       "    }\n",
       "\n",
       "    .dataframe tbody tr th {\n",
       "        vertical-align: top;\n",
       "    }\n",
       "\n",
       "    .dataframe thead th {\n",
       "        text-align: right;\n",
       "    }\n",
       "</style>\n",
       "<table border=\"1\" class=\"dataframe\">\n",
       "  <thead>\n",
       "    <tr style=\"text-align: right;\">\n",
       "      <th></th>\n",
       "      <th>model</th>\n",
       "    </tr>\n",
       "  </thead>\n",
       "  <tbody>\n",
       "    <tr>\n",
       "      <th>0</th>\n",
       "      <td>RoBERTa</td>\n",
       "    </tr>\n",
       "    <tr>\n",
       "      <th>0</th>\n",
       "      <td>BERT-multilingual</td>\n",
       "    </tr>\n",
       "    <tr>\n",
       "      <th>0</th>\n",
       "      <td>Ensemble ( stacking, 5-fold )</td>\n",
       "    </tr>\n",
       "    <tr>\n",
       "      <th>0</th>\n",
       "      <td>Ensemble ( averaging )</td>\n",
       "    </tr>\n",
       "  </tbody>\n",
       "</table>\n",
       "</div>"
      ],
      "text/plain": [
       "                           model\n",
       "0                        RoBERTa\n",
       "0              BERT-multilingual\n",
       "0  Ensemble ( stacking, 5-fold )\n",
       "0         Ensemble ( averaging )"
      ]
     },
     "execution_count": 181,
     "metadata": {},
     "output_type": "execute_result"
    }
   ],
   "source": [
    "y_test, y_pred = generate_confusion_matrix(\"ASSIN 2\", \"BERT-multilingual\")\n",
    "\n",
    "dataplot[['model']].drop_duplicates()\n",
    "\n",
    "# matthews_corrcoef(y_test, y_pred) "
   ]
  },
  {
   "cell_type": "code",
   "execution_count": 182,
   "metadata": {},
   "outputs": [
    {
     "data": {
      "text/plain": [
       "0.6768082082637692"
      ]
     },
     "execution_count": 182,
     "metadata": {},
     "output_type": "execute_result"
    }
   ],
   "source": [
    "y_test, y_pred = generate_confusion_matrix(\"ASSIN 2\", \"BERT-multilingual\")\n",
    "matthews_corrcoef(y_test, y_pred) "
   ]
  },
  {
   "cell_type": "code",
   "execution_count": 183,
   "metadata": {},
   "outputs": [
    {
     "data": {
      "text/plain": [
       "0.6176862005394158"
      ]
     },
     "execution_count": 183,
     "metadata": {},
     "output_type": "execute_result"
    }
   ],
   "source": [
    "y_test, y_pred = generate_confusion_matrix(\"ASSIN 2\", \"RoBERTa\")\n",
    "matthews_corrcoef(y_test, y_pred) "
   ]
  },
  {
   "cell_type": "code",
   "execution_count": 184,
   "metadata": {},
   "outputs": [
    {
     "data": {
      "text/plain": [
       "0.6814411489887574"
      ]
     },
     "execution_count": 184,
     "metadata": {},
     "output_type": "execute_result"
    }
   ],
   "source": [
    "y_test, y_pred = generate_confusion_matrix(\"ASSIN 2\", \"Ensemble ( stacking, 5-fold )\")\n",
    "matthews_corrcoef(y_test, y_pred) "
   ]
  },
  {
   "cell_type": "code",
   "execution_count": 185,
   "metadata": {},
   "outputs": [
    {
     "data": {
      "text/plain": [
       "0.6650452777706922"
      ]
     },
     "execution_count": 185,
     "metadata": {},
     "output_type": "execute_result"
    }
   ],
   "source": [
    "y_test, y_pred = generate_confusion_matrix(\"ASSIN 2\", \"Ensemble ( averaging )\")\n",
    "matthews_corrcoef(y_test, y_pred) "
   ]
  },
  {
   "cell_type": "code",
   "execution_count": 186,
   "metadata": {},
   "outputs": [
    {
     "data": {
      "text/plain": [
       "0.49873527588790795"
      ]
     },
     "execution_count": 186,
     "metadata": {},
     "output_type": "execute_result"
    }
   ],
   "source": [
    "y_test, y_pred = generate_confusion_matrix(\"ASSIN 1 (PT-PT)\", \"BERT-multilingual\")\n",
    "matthews_corrcoef(y_test, y_pred) "
   ]
  },
  {
   "cell_type": "code",
   "execution_count": 187,
   "metadata": {},
   "outputs": [
    {
     "data": {
      "text/plain": [
       "0.5443964599436409"
      ]
     },
     "execution_count": 187,
     "metadata": {},
     "output_type": "execute_result"
    }
   ],
   "source": [
    "y_test, y_pred = generate_confusion_matrix(\"ASSIN 1 (PT-PT)\", \"RoBERTa\")\n",
    "matthews_corrcoef(y_test, y_pred) "
   ]
  },
  {
   "cell_type": "code",
   "execution_count": 188,
   "metadata": {},
   "outputs": [
    {
     "data": {
      "text/plain": [
       "0.44127159553853895"
      ]
     },
     "execution_count": 188,
     "metadata": {},
     "output_type": "execute_result"
    }
   ],
   "source": [
    "y_test, y_pred = generate_confusion_matrix(\"ASSIN 1 (PT-PT)\", \"Ensemble ( stacking, 5-fold )\")\n",
    "matthews_corrcoef(y_test, y_pred) "
   ]
  },
  {
   "cell_type": "code",
   "execution_count": 189,
   "metadata": {},
   "outputs": [
    {
     "data": {
      "text/plain": [
       "0.5341730551087349"
      ]
     },
     "execution_count": 189,
     "metadata": {},
     "output_type": "execute_result"
    }
   ],
   "source": [
    "y_test, y_pred = generate_confusion_matrix(\"ASSIN 1 (PT-PT)\", \"Ensemble ( averaging )\")\n",
    "matthews_corrcoef(y_test, y_pred) "
   ]
  },
  {
   "cell_type": "code",
   "execution_count": 190,
   "metadata": {},
   "outputs": [
    {
     "data": {
      "text/plain": [
       "0.5132934398999935"
      ]
     },
     "execution_count": 190,
     "metadata": {},
     "output_type": "execute_result"
    }
   ],
   "source": [
    "y_test, y_pred = generate_confusion_matrix(\"ASSIN 1 (PT-BR)\", \"BERT-multilingual\")\n",
    "matthews_corrcoef(y_test, y_pred) "
   ]
  },
  {
   "cell_type": "code",
   "execution_count": 191,
   "metadata": {},
   "outputs": [
    {
     "data": {
      "text/plain": [
       "0.4728002024365028"
      ]
     },
     "execution_count": 191,
     "metadata": {},
     "output_type": "execute_result"
    }
   ],
   "source": [
    "y_test, y_pred = generate_confusion_matrix(\"ASSIN 1 (PT-BR)\", \"RoBERTa\")\n",
    "matthews_corrcoef(y_test, y_pred) "
   ]
  },
  {
   "cell_type": "code",
   "execution_count": 192,
   "metadata": {},
   "outputs": [
    {
     "data": {
      "text/plain": [
       "0.42635840877292863"
      ]
     },
     "execution_count": 192,
     "metadata": {},
     "output_type": "execute_result"
    }
   ],
   "source": [
    "y_test, y_pred = generate_confusion_matrix(\"ASSIN 1 (PT-BR)\", \"Ensemble ( stacking, 5-fold )\")\n",
    "matthews_corrcoef(y_test, y_pred) "
   ]
  },
  {
   "cell_type": "code",
   "execution_count": 193,
   "metadata": {},
   "outputs": [
    {
     "data": {
      "text/plain": [
       "0.5156201427699509"
      ]
     },
     "execution_count": 193,
     "metadata": {},
     "output_type": "execute_result"
    }
   ],
   "source": [
    "y_test, y_pred = generate_confusion_matrix(\"ASSIN 1 (PT-BR)\", \"Ensemble ( averaging )\")\n",
    "matthews_corrcoef(y_test, y_pred) "
   ]
  },
  {
   "cell_type": "code",
   "execution_count": null,
   "metadata": {},
   "outputs": [],
   "source": []
  }
 ],
 "metadata": {
  "kernelspec": {
   "display_name": "Python 3",
   "language": "python",
   "name": "python3"
  },
  "language_info": {
   "codemirror_mode": {
    "name": "ipython",
    "version": 3
   },
   "file_extension": ".py",
   "mimetype": "text/x-python",
   "name": "python",
   "nbconvert_exporter": "python",
   "pygments_lexer": "ipython3",
   "version": "3.7.3"
  }
 },
 "nbformat": 4,
 "nbformat_minor": 2
}
